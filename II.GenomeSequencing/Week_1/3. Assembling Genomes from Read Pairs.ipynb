{
 "cells": [
  {
   "attachments": {},
   "cell_type": "markdown",
   "metadata": {},
   "source": [
    "## String Recomposition from Paired Reads"
   ]
  },
  {
   "attachments": {},
   "cell_type": "markdown",
   "metadata": {},
   "source": [
    "Generate the (3,2)-mer composition of TAATGCCATGGGATGTT in lexicographic order. \n",
    "\n",
    "Given a string Text, a (k,d)-mer is a pair of k-mers in Text separated by distance d. "
   ]
  },
  {
   "cell_type": "code",
   "execution_count": 29,
   "metadata": {},
   "outputs": [],
   "source": [
    "def PairReadComposition(DnaString:str, k:int, d:int):\n",
    "    return sorted([\n",
    "        str(\"(\" + DnaString[i:k+i] + \"|\" + DnaString[k+d+i:2*k+d+i] + \")\")\n",
    "        for i in range(len(DnaString) - 2*k - d + 1)])\n"
   ]
  },
  {
   "cell_type": "code",
   "execution_count": 30,
   "metadata": {},
   "outputs": [
    {
     "data": {
      "text/plain": [
       "'(AAT|CAT) (ATG|ATG) (ATG|ATG) (CAT|GAT) (CCA|GGA) (GCC|GGG) (GGG|GTT) (TAA|CCA) (TGC|TGG) (TGG|TGT)'"
      ]
     },
     "execution_count": 30,
     "metadata": {},
     "output_type": "execute_result"
    }
   ],
   "source": [
    "x = PairReadComposition('TAATGCCATGGGATGTT', k=3, d=2)\n",
    "' '.join(x)"
   ]
  },
  {
   "attachments": {},
   "cell_type": "markdown",
   "metadata": {},
   "source": [
    "### String Reconstruction from Read-Pairs Problem: \n",
    "Reconstruct a string from its paired composition.\n",
    "\n",
    "**Input**: A collection of paired k-mers PairedReads and an integer d.\n",
    "\n",
    "\n",
    "**Output**: A string Text with (k,d)-mer composition equal to PairedReads (if such a string exists)."
   ]
  },
  {
   "cell_type": "code",
   "execution_count": null,
   "metadata": {},
   "outputs": [],
   "source": []
  },
  {
   "cell_type": "markdown",
   "metadata": {},
   "source": []
  }
 ],
 "metadata": {
  "kernelspec": {
   "display_name": "base",
   "language": "python",
   "name": "python3"
  },
  "language_info": {
   "codemirror_mode": {
    "name": "ipython",
    "version": 3
   },
   "file_extension": ".py",
   "mimetype": "text/x-python",
   "name": "python",
   "nbconvert_exporter": "python",
   "pygments_lexer": "ipython3",
   "version": "3.9.12"
  },
  "orig_nbformat": 4,
  "vscode": {
   "interpreter": {
    "hash": "40d3a090f54c6569ab1632332b64b2c03c39dcf918b08424e98f38b5ae0af88f"
   }
  }
 },
 "nbformat": 4,
 "nbformat_minor": 2
}
