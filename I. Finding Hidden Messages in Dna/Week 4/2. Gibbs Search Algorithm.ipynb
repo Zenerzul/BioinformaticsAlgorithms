{
 "cells": [
  {
   "attachments": {},
   "cell_type": "markdown",
   "metadata": {},
   "source": [
    "# Week 4"
   ]
  },
  {
   "cell_type": "markdown",
   "metadata": {},
   "source": [
    "Note that RandomizedMotifSearch may change all t strings Motifs in a single iteration. This strategy may prove reckless, since some correct motifs (captured in Motifs) may potentially be discarded at the next iteration. GibbsSampler is a more cautious iterative algorithm that discards a single k-mer from the current set of motifs at each iteration and decides to either keep it or replace it with a new one. This algorithm thus moves with more caution in the space of all motifs, as illustrated below."
   ]
  },
  {
   "cell_type": "code",
   "execution_count": 1,
   "metadata": {},
   "outputs": [],
   "source": [
    "from collections import Counter\n",
    "import numpy as np\n",
    "import math\n",
    "\n",
    "\n",
    "def CalculateProbability(Pattern, k, Profile:dict):\n",
    "    return math.prod([Profile[Pattern[i]][i] for i in range(k)])\n",
    "\n",
    "\n",
    "def CreateProfile(DnaList):\n",
    "    Profile = { base: [ # делаем словарь основание-список вероятностей по позициям для каждой колонки нуклеотидов из списка последовательностей\n",
    "        Nucleotides.count(base) / len(Nucleotides)\n",
    "        for Nucleotides in [''.join([Dna[i] for Dna in DnaList]) for i in range(len(DnaList[0]))]\n",
    "    ] for base in 'ACGT' }\n",
    "    return Profile \n",
    "\n",
    "\n",
    "def CreateProfilePseudocounts(DnaList):\n",
    "    Profile = { base: [ # делаем словарь основание-список вероятностей по позициям для каждой колонки нуклеотидов из списка последовательностей\n",
    "        (Nucleotides.count(base)+1) / (len(DnaList[0])+len(DnaList))\n",
    "        for Nucleotides in [''.join([Dna[i] for Dna in DnaList]) for i in range(len(DnaList[0]))]\n",
    "    ] for base in 'ACGT' }\n",
    "    return Profile \n",
    "\n",
    "\n",
    "def Score(Motifs):\n",
    "    motifsList = [\n",
    "        [Motifs[i][j] for i in range(len(Motifs))] for j in range(len(Motifs[0]))\n",
    "    ]\n",
    "    Score = 0\n",
    "    for column_i in motifsList:\n",
    "        count = Counter(column_i)\n",
    "        maxFreq = count.most_common(1)[0][1]\n",
    "        Score += len(column_i) - maxFreq\n",
    "    return Score\n",
    "\n",
    "\n",
    "def ProfileMostProbable(DnaString, k, Profile:dict):\n",
    "\n",
    "    kMerList = [ DnaString[i:i+k] for i in range(len(DnaString) - k + 1) ]\n",
    "\n",
    "    mostProbable = kMerList[0]\n",
    "    probability = CalculateProbability(kMerList[0], k, Profile) # назначаем изначальные данные для первого k-мера\n",
    "\n",
    "    for kMer in kMerList[1:]:\n",
    "        probkMer = CalculateProbability(kMer, k, Profile)\n",
    "        if probkMer > probability:\n",
    "            probability = probkMer\n",
    "            mostProbable = kMer\n",
    "\n",
    "    return mostProbable"
   ]
  },
  {
   "cell_type": "code",
   "execution_count": 2,
   "metadata": {},
   "outputs": [
    {
     "data": {
      "text/plain": [
       "5"
      ]
     },
     "execution_count": 2,
     "metadata": {},
     "output_type": "execute_result"
    }
   ],
   "source": [
    "Score(['ACCT', 'ATGT', 'GCGT', 'ACGA', 'AGGT'])"
   ]
  },
  {
   "cell_type": "code",
   "execution_count": 3,
   "metadata": {},
   "outputs": [
    {
     "data": {
      "text/plain": [
       "{'A': [0.8, 0.0, 0.0, 0.2],\n",
       " 'C': [0.0, 0.6, 0.2, 0.0],\n",
       " 'G': [0.2, 0.2, 0.8, 0.0],\n",
       " 'T': [0.0, 0.2, 0.0, 0.8]}"
      ]
     },
     "execution_count": 3,
     "metadata": {},
     "output_type": "execute_result"
    }
   ],
   "source": [
    "CreateProfile(\n",
    "    ['ACCT', 'ATGT', 'GCGT', 'ACGA', 'AGGT']\n",
    ")"
   ]
  },
  {
   "cell_type": "markdown",
   "metadata": {},
   "source": [
    "In general, we can begin from a collection of randomly chosen k-mers Motifs in Dna, construct Profile(Motifs), and use this profile to generate a new collection of k-mers:"
   ]
  },
  {
   "cell_type": "code",
   "execution_count": 4,
   "metadata": {},
   "outputs": [],
   "source": [
    "def Consensus(Motifs:list):\n",
    "    Profile = CreateProfile(Motifs)\n",
    "    \n",
    "    return Profile\n"
   ]
  },
  {
   "cell_type": "markdown",
   "metadata": {},
   "source": [
    "надо дописать конценсус"
   ]
  },
  {
   "cell_type": "code",
   "execution_count": 5,
   "metadata": {},
   "outputs": [
    {
     "name": "stdout",
     "output_type": "stream",
     "text": [
      "2\n"
     ]
    }
   ],
   "source": [
    "from random import choices, randint\n",
    "\n",
    "\n",
    "def RandomNumber(N):\n",
    "    return randint(0, N-1) # выводим рандомный номер в диапазоне 0:N\n",
    "\n",
    "\n",
    "def RandomProbabilities(probabilityList):\n",
    "    return choices(\n",
    "        population=range(len(probabilityList)), weights=[prob/sum(probabilityList) for prob in probabilityList], k=1)[0]\n",
    "\n",
    "\n",
    "print(RandomProbabilities(probabilityList=[0.1, 0.0005, 0.9, 0.001]))"
   ]
  },
  {
   "cell_type": "code",
   "execution_count": 6,
   "metadata": {},
   "outputs": [
    {
     "data": {
      "text/plain": [
       "4"
      ]
     },
     "execution_count": 6,
     "metadata": {},
     "output_type": "execute_result"
    }
   ],
   "source": [
    "RandomNumber(5)"
   ]
  },
  {
   "attachments": {},
   "cell_type": "markdown",
   "metadata": {},
   "source": [
    "Разобраться и переписать Random !"
   ]
  },
  {
   "cell_type": "code",
   "execution_count": 7,
   "metadata": {},
   "outputs": [],
   "source": [
    "import random\n",
    "\n",
    "def Random(probabilities):\n",
    "    summand=sum(probabilities)\n",
    "    for i in range(len(probabilities)):\n",
    "        probabilities[i]=probabilities[i]/(summand)\n",
    "    random_number=random.random()\n",
    "    counter=0\n",
    "    for j in range(len(probabilities)):\n",
    "        if random_number>=counter and random_number<(counter+probabilities[j]):\n",
    "            return j\n",
    "        else:\n",
    "            counter+=probabilities[j]"
   ]
  },
  {
   "cell_type": "code",
   "execution_count": 8,
   "metadata": {},
   "outputs": [],
   "source": [
    "def GibbsSampler(DnaList, k, t, N):\n",
    "    Motifs = [  # делаем список случайных мотивов длинной k\n",
    "        Dna[position:position+k] for Dna in DnaList for position in [RandomNumber(len(DnaList[0])-k+1)]\n",
    "    ]\n",
    "    bestMotifs = Motifs[:]\n",
    "    bestScore = Score(bestMotifs) # назначаем его лучшим и делаем ему счет\n",
    "\n",
    "    for loop in range(N):\n",
    "        dnaNumber = RandomNumber(t) # выбираем одну строку из внесенного списка, убираем ее k-мер из рассчета\n",
    "        Motifs.pop(dnaNumber)\n",
    "        currentProfile = CreateProfilePseudocounts(Motifs) # считаем профиль из t-1 k-меров\n",
    "        newIndex = Random(probabilities=[ # считаем вероятность каждого k-мера из удаленной строки\n",
    "            CalculateProbability(Pattern=DnaList[dnaNumber][s:s+k], k=k, Profile=currentProfile) \n",
    "            for s in range(len(DnaList[dnaNumber])-k+1) # на основании полученных вероятностей выдаем случайный взвешенный индекс \n",
    "        ])\n",
    "\n",
    "        Motifs.insert(dnaNumber, DnaList[dnaNumber][newIndex:newIndex+k]) # вставляем на место удаленного k-мера полученный, считаем Score\n",
    "        currentScore = Score(Motifs)\n",
    "\n",
    "        if currentScore < bestScore: # делаем все выше случайно, чтобы сохранить возможность выйти из локального оптимума и найти глобальный\n",
    "            bestMotifs = Motifs[:]\n",
    "            bestScore = currentScore\n",
    "        \n",
    "    return [bestMotifs, bestScore]\n",
    "\n",
    "\n",
    "def MultipleGibsSampler(DnaList, k, t, N, repeats, print_output=False):\n",
    "    lastMotifs, lastScore = GibbsSampler( # делаем изначалальный набор мотивов\n",
    "        DnaList, k, t, N\n",
    "    ) \n",
    "    print(\"Initial iteration number:\", 1)\n",
    "    print(\"Initial score is\", lastScore)\n",
    "\n",
    "    for index in range(repeats-1):    # нужное количетво раз итерируемся и находим новый список bestMotifs и его Score\n",
    "        bestMotifs, bestScore = GibbsSampler(\n",
    "            DnaList, k, t, N\n",
    "        )\n",
    "        if bestScore < lastScore: # если вдруг этот список лучше, записываем его\n",
    "            lastMotifs = bestMotifs[:]\n",
    "            print(f\"Changing score from {lastScore} to {bestScore}\")\n",
    "            lastScore = bestScore\n",
    "        print(\"Completed iteration number\", index+2)\n",
    "    \n",
    "    print('Complete!')\n",
    "    if print_output:\n",
    "        print(*lastMotifs)\n",
    "        print(\"Score:\", lastScore)\n",
    "    else:\n",
    "        return lastMotifs"
   ]
  },
  {
   "cell_type": "code",
   "execution_count": 9,
   "metadata": {},
   "outputs": [],
   "source": [
    "# import inspect\n",
    "# print(inspect.getsource(GibbsSampler))"
   ]
  },
  {
   "cell_type": "code",
   "execution_count": 10,
   "metadata": {},
   "outputs": [
    {
     "name": "stdout",
     "output_type": "stream",
     "text": [
      "Initial iteration number: 1\n",
      "Initial score is 100\n",
      "Completed iteration number 2\n",
      "Completed iteration number 3\n",
      "Changing score from 100 to 87\n",
      "Completed iteration number 4\n",
      "Changing score from 87 to 78\n",
      "Completed iteration number 5\n",
      "Completed iteration number 6\n",
      "Changing score from 78 to 64\n",
      "Completed iteration number 7\n",
      "Completed iteration number 8\n",
      "Completed iteration number 9\n",
      "Completed iteration number 10\n",
      "Completed iteration number 11\n",
      "Completed iteration number 12\n",
      "Completed iteration number 13\n",
      "Completed iteration number 14\n",
      "Completed iteration number 15\n",
      "Completed iteration number 16\n",
      "Completed iteration number 17\n",
      "Completed iteration number 18\n",
      "Completed iteration number 19\n",
      "Completed iteration number 20\n",
      "Complete!\n",
      "TAGACAGCATGGAGT TCCTCGGTATACCGT TCCAGAAGGTACCGT TCCAGAGACAACCGT TCCAGTTCATACCGT ATAAGAGTATACCGT TCCAGAGTATATACT TCCAGAGTATACTTA TCCAGAGTATCTAGT TGGGGAGTATACCGT GCCAGAGTATACCCC TCGGTAGTATACCGT TCCGCTGTATACCGT TCCAGAGTCGGCCGT TCCAGATCGTACCGT TCCAGAGTAGCTCGT GGCAGAGTATACCGA TCCACCATATACCGT TCCAGTTGATACCGT TCCACCCTATACCGT\n",
      "Score: 64\n"
     ]
    }
   ],
   "source": [
    "import cProfile, pstats\n",
    "pr = cProfile.Profile()\n",
    "pr.enable()\n",
    "\n",
    "MultipleGibsSampler(\n",
    "    DnaList=[i.strip() for i in input().split()],\n",
    "    k=15, t=20, N=2000, repeats=20,\n",
    "    print_output=True\n",
    ")\n",
    "\n",
    "pr.disable()"
   ]
  },
  {
   "cell_type": "code",
   "execution_count": 11,
   "metadata": {},
   "outputs": [
    {
     "name": "stdout",
     "output_type": "stream",
     "text": [
      "         57235065 function calls (57235057 primitive calls) in 78.129 seconds\n",
      "\n",
      "   Ordered by: internal time\n",
      "\n",
      "   ncalls  tottime  percall  cumtime  percall filename:lineno(function)\n",
      " 12640000   29.671    0.000   29.671    0.000 /var/folders/xf/nzdtc5ts6vb6rqb4szc5hcjc0000gn/T/ipykernel_44456/4167868547.py:7(<listcomp>)\n",
      " 12640000   13.232    0.000   48.121    0.000 /var/folders/xf/nzdtc5ts6vb6rqb4szc5hcjc0000gn/T/ipykernel_44456/4167868547.py:6(CalculateProbability)\n",
      "    40000    9.003    0.000   57.123    0.001 /var/folders/xf/nzdtc5ts6vb6rqb4szc5hcjc0000gn/T/ipykernel_44456/4242661832.py:12(<listcomp>)\n",
      " 12640000    5.218    0.000    5.218    0.000 {built-in method math.prod}\n",
      "    40000    3.052    0.000    3.212    0.000 /var/folders/xf/nzdtc5ts6vb6rqb4szc5hcjc0000gn/T/ipykernel_44456/3566973495.py:3(Random)\n",
      "   160000    1.940    0.000    7.136    0.000 /var/folders/xf/nzdtc5ts6vb6rqb4szc5hcjc0000gn/T/ipykernel_44456/4167868547.py:21(<listcomp>)\n",
      "   160000    1.933    0.000    3.343    0.000 /var/folders/xf/nzdtc5ts6vb6rqb4szc5hcjc0000gn/T/ipykernel_44456/4167868547.py:19(<listcomp>)\n",
      "   600300    1.568    0.000    1.568    0.000 /var/folders/xf/nzdtc5ts6vb6rqb4szc5hcjc0000gn/T/ipykernel_44456/4167868547.py:28(<listcomp>)\n",
      "      107    1.241    0.012    1.241    0.012 /opt/anaconda3/lib/python3.9/site-packages/zmq/sugar/poll.py:108(select)\n",
      "    40020    1.230    0.000    8.854    0.000 /var/folders/xf/nzdtc5ts6vb6rqb4szc5hcjc0000gn/T/ipykernel_44456/4167868547.py:26(Score)\n",
      "  2400004    1.003    0.000    1.003    0.000 {method 'join' of 'str' objects}\n",
      "   600300    0.821    0.000    2.987    0.000 /opt/anaconda3/lib/python3.9/collections/__init__.py:581(__init__)\n",
      "  2400002    0.820    0.000    0.820    0.000 {method 'count' of 'str' objects}\n",
      "  6321193    0.814    0.000    0.814    0.000 {built-in method builtins.len}\n",
      "   600300    0.782    0.000    0.782    0.000 {built-in method _collections._count_elements}\n",
      "   600300    0.769    0.000    2.323    0.000 /opt/anaconda3/lib/python3.9/collections/__init__.py:600(most_common)\n",
      "   600301    0.728    0.000    0.728    0.000 {built-in method builtins.max}\n",
      "   600300    0.599    0.000    1.458    0.000 /opt/anaconda3/lib/python3.9/heapq.py:521(nlargest)\n",
      "       20    0.586    0.029   81.062    4.053 /var/folders/xf/nzdtc5ts6vb6rqb4szc5hcjc0000gn/T/ipykernel_44456/4242661832.py:1(GibbsSampler)\n",
      "    40020    0.576    0.000    2.217    0.000 /var/folders/xf/nzdtc5ts6vb6rqb4szc5hcjc0000gn/T/ipykernel_44456/4167868547.py:27(<listcomp>)\n",
      "   600300    0.535    0.000    2.165    0.000 /opt/anaconda3/lib/python3.9/collections/__init__.py:649(update)\n",
      "    40000    0.372    0.000   10.876    0.000 /var/folders/xf/nzdtc5ts6vb6rqb4szc5hcjc0000gn/T/ipykernel_44456/4167868547.py:19(<dictcomp>)\n",
      "   600506    0.341    0.000    0.849    0.000 {built-in method builtins.isinstance}\n",
      "   600304    0.257    0.000    0.257    0.000 {built-in method _abc._abc_instancecheck}\n",
      "   600304    0.252    0.000    0.509    0.000 /opt/anaconda3/lib/python3.9/abc.py:117(__instancecheck__)\n",
      "   600300    0.131    0.000    0.131    0.000 {built-in method builtins.iter}\n",
      "    40001    0.122    0.000    0.122    0.000 {built-in method builtins.sum}\n",
      "   600303    0.095    0.000    0.095    0.000 {method 'items' of 'dict' objects}\n",
      "    40400    0.084    0.000    0.196    0.000 /opt/anaconda3/lib/python3.9/random.py:290(randrange)\n",
      "    40400    0.076    0.000    0.112    0.000 /opt/anaconda3/lib/python3.9/random.py:237(_randbelow_with_getrandbits)\n",
      "    40000    0.072    0.000   10.948    0.000 /var/folders/xf/nzdtc5ts6vb6rqb4szc5hcjc0000gn/T/ipykernel_44456/4167868547.py:18(CreateProfilePseudocounts)\n",
      "    40400    0.051    0.000    0.247    0.000 /opt/anaconda3/lib/python3.9/random.py:334(randint)\n",
      "    40400    0.044    0.000    0.291    0.000 /var/folders/xf/nzdtc5ts6vb6rqb4szc5hcjc0000gn/T/ipykernel_44456/3656519338.py:4(RandomNumber)\n",
      "    64787    0.026    0.000    0.026    0.000 {method 'getrandbits' of '_random.Random' objects}\n",
      "    40007    0.023    0.000    0.023    0.000 {method 'pop' of 'list' objects}\n",
      "    40000    0.017    0.000    0.017    0.000 {method 'random' of '_random.Random' objects}\n",
      "    40000    0.015    0.000    0.015    0.000 {method 'insert' of 'list' objects}\n",
      "    40400    0.011    0.000    0.011    0.000 {method 'bit_length' of 'int' objects}\n",
      "      167    0.005    0.000    0.005    0.000 /opt/anaconda3/lib/python3.9/site-packages/zmq/sugar/socket.py:480(send)\n",
      "        1    0.003    0.003    1.252    1.252 /opt/anaconda3/lib/python3.9/site-packages/ipykernel/kernelbase.py:1082(_input_request)\n",
      "      170    0.003    0.000    0.003    0.000 {method 'acquire' of '_thread.lock' objects}\n",
      "      252    0.001    0.000    0.001    0.000 /opt/anaconda3/lib/python3.9/site-packages/traitlets/traitlets.py:566(__get__)\n",
      "      160    0.001    0.000    0.007    0.000 /opt/anaconda3/lib/python3.9/site-packages/ipykernel/iostream.py:208(schedule)\n",
      "      136    0.001    0.000    0.007    0.000 /opt/anaconda3/lib/python3.9/site-packages/ipykernel/iostream.py:502(write)\n",
      "      252    0.001    0.000    0.001    0.000 /opt/anaconda3/lib/python3.9/site-packages/traitlets/traitlets.py:535(get)\n",
      "        2    0.001    0.000    0.001    0.000 /opt/anaconda3/lib/python3.9/site-packages/zmq/sugar/socket.py:599(recv_multipart)\n",
      "        2    0.000    0.000    0.000    0.000 {built-in method builtins.compile}\n",
      "       20    0.000    0.000    0.002    0.000 /var/folders/xf/nzdtc5ts6vb6rqb4szc5hcjc0000gn/T/ipykernel_44456/4242661832.py:2(<listcomp>)\n",
      "      162    0.000    0.000    0.001    0.000 /opt/anaconda3/lib/python3.9/threading.py:1126(is_alive)\n",
      "       27    0.000    0.000    0.007    0.000 {built-in method builtins.print}\n",
      "        6    0.000    0.000    0.000    0.000 {method 'copy' of '_hashlib.HASH' objects}\n",
      "        2    0.000    0.000   82.322   41.161 /opt/anaconda3/lib/python3.9/site-packages/IPython/core/interactiveshell.py:3333(run_code)\n",
      "        1    0.000    0.000   81.069   81.069 /var/folders/xf/nzdtc5ts6vb6rqb4szc5hcjc0000gn/T/ipykernel_44456/4242661832.py:27(MultipleGibsSampler)\n",
      "      136    0.000    0.000    0.000    0.000 /opt/anaconda3/lib/python3.9/site-packages/ipykernel/iostream.py:420(_is_master_process)\n",
      "      162    0.000    0.000    0.000    0.000 /opt/anaconda3/lib/python3.9/threading.py:1059(_wait_for_tstate_lock)\n",
      "      127    0.000    0.000    0.000    0.000 {method 'append' of 'list' objects}\n",
      "      160    0.000    0.000    0.000    0.000 /opt/anaconda3/lib/python3.9/site-packages/ipykernel/iostream.py:97(_event_pipe)\n",
      "        1    0.000    0.000    0.001    0.001 /opt/anaconda3/lib/python3.9/site-packages/jupyter_client/session.py:662(send)\n",
      "        2    0.000    0.000    0.000    0.000 /opt/anaconda3/lib/python3.9/site-packages/IPython/core/interactiveshell.py:3186(_update_code_co_name)\n",
      "        1    0.000    0.000   82.321   82.321 /var/folders/xf/nzdtc5ts6vb6rqb4szc5hcjc0000gn/T/ipykernel_44456/346067843.py:5(<cell line: 5>)\n",
      "      136    0.000    0.000    0.001    0.000 /opt/anaconda3/lib/python3.9/site-packages/ipykernel/iostream.py:439(_schedule_flush)\n",
      "        2    0.000    0.000    0.004    0.002 /opt/anaconda3/lib/python3.9/site-packages/ipykernel/iostream.py:453(flush)\n",
      "        1    0.000    0.000    0.000    0.000 /opt/anaconda3/lib/python3.9/site-packages/zmq/error.py:30(__init__)\n",
      "        4    0.000    0.000    0.000    0.000 /opt/anaconda3/lib/python3.9/json/encoder.py:204(iterencode)\n",
      "      3/1    0.000    0.000    0.000    0.000 /opt/anaconda3/lib/python3.9/site-packages/ipykernel/jsonutil.py:74(json_clean)\n",
      "      162    0.000    0.000    0.000    0.000 {method 'append' of 'collections.deque' objects}\n",
      "        1    0.000    0.000    0.001    0.001 /opt/anaconda3/lib/python3.9/site-packages/jupyter_client/session.py:603(serialize)\n",
      "        2    0.000    0.000    0.000    0.000 /opt/anaconda3/lib/python3.9/contextlib.py:86(__init__)\n",
      "      162    0.000    0.000    0.000    0.000 /opt/anaconda3/lib/python3.9/threading.py:529(is_set)\n",
      "       13    0.000    0.000    0.000    0.000 /opt/anaconda3/lib/python3.9/site-packages/dateutil/parser/_parser.py:77(get_token)\n",
      "        1    0.000    0.000    0.000    0.000 /var/folders/xf/nzdtc5ts6vb6rqb4szc5hcjc0000gn/T/ipykernel_44456/346067843.py:11(<cell line: 11>)\n",
      "        4    0.000    0.000    0.000    0.000 /opt/anaconda3/lib/python3.9/json/decoder.py:343(raw_decode)\n",
      "        2    0.000    0.000    0.001    0.000 /opt/anaconda3/lib/python3.9/codeop.py:142(__call__)\n",
      "        1    0.000    0.000    0.000    0.000 /opt/anaconda3/lib/python3.9/site-packages/zmq/error.py:109(__init__)\n",
      "        1    0.000    0.000    0.000    0.000 /opt/anaconda3/lib/python3.9/site-packages/ipykernel/kernelbase.py:575(get_parent)\n",
      "       10    0.000    0.000    0.000    0.000 {built-in method builtins.hasattr}\n",
      "        2    0.000    0.000    0.000    0.000 {method 'isoformat' of 'datetime.datetime' objects}\n",
      "       10    0.000    0.000    0.000    0.000 {method 'update' of '_hashlib.HASH' objects}\n",
      "        2    0.000    0.000    0.000    0.000 /opt/anaconda3/lib/python3.9/contextlib.py:261(helper)\n",
      "        1    0.000    0.000    0.001    0.001 /opt/anaconda3/lib/python3.9/site-packages/jupyter_client/session.py:887(deserialize)\n",
      "        4    0.000    0.000    0.000    0.000 /opt/anaconda3/lib/python3.9/dis.py:449(findlinestarts)\n",
      "        1    0.000    0.000    1.252    1.252 /opt/anaconda3/lib/python3.9/site-packages/ipykernel/kernelbase.py:1064(raw_input)\n",
      "        4    0.000    0.000    0.000    0.000 {built-in method _thread.allocate_lock}\n",
      "        4    0.000    0.000    0.000    0.000 /opt/anaconda3/lib/python3.9/json/decoder.py:332(decode)\n",
      "      137    0.000    0.000    0.000    0.000 {built-in method posix.getpid}\n",
      "        1    0.000    0.000    0.000    0.000 /opt/anaconda3/lib/python3.9/site-packages/dateutil/parser/_parser.py:666(_parse)\n",
      "        1    0.000    0.000    0.000    0.000 /opt/anaconda3/lib/python3.9/site-packages/zmq/sugar/socket.py:549(send_multipart)\n",
      "        4    0.000    0.000    0.000    0.000 {method 'replace' of 'datetime.datetime' objects}\n",
      "        2    0.000    0.000    0.000    0.000 /opt/anaconda3/lib/python3.9/site-packages/IPython/core/interactiveshell.py:3284(compare)\n",
      "       14    0.000    0.000    0.000    0.000 {method 'match' of 're.Pattern' objects}\n",
      "        2    0.000    0.000    0.002    0.001 /opt/anaconda3/lib/python3.9/threading.py:280(wait)\n",
      "        2    0.000    0.000    0.000    0.000 /opt/anaconda3/lib/python3.9/hmac.py:115(copy)\n",
      "        2    0.000    0.000    0.000    0.000 /opt/anaconda3/lib/python3.9/site-packages/IPython/core/interactiveshell.py:1181(user_global_ns)\n",
      "        2    0.000    0.000    0.000    0.000 /opt/anaconda3/lib/python3.9/site-packages/dateutil/parser/_parser.py:875(_parse_numeric_token)\n",
      "      8/2    0.000    0.000    0.000    0.000 /opt/anaconda3/lib/python3.9/site-packages/jupyter_client/jsonutil.py:59(extract_dates)\n",
      "        4    0.000    0.000    0.000    0.000 /opt/anaconda3/lib/python3.9/site-packages/zmq/utils/jsonapi.py:28(loads)\n",
      "        6    0.000    0.000    0.000    0.000 {method 'encode' of 'str' objects}\n",
      "        2    0.000    0.000    0.000    0.000 /opt/anaconda3/lib/python3.9/hmac.py:128(_current)\n",
      "        1    0.000    0.000    0.000    0.000 /opt/anaconda3/lib/python3.9/site-packages/jupyter_client/session.py:149(utcnow)\n",
      "        4    0.000    0.000    0.000    0.000 /opt/anaconda3/lib/python3.9/json/__init__.py:183(dumps)\n",
      "        4    0.000    0.000    0.000    0.000 /opt/anaconda3/lib/python3.9/json/encoder.py:182(encode)\n",
      "        2    0.000    0.000    0.000    0.000 /opt/anaconda3/lib/python3.9/threading.py:228(__init__)\n",
      "        1    0.000    0.000    0.000    0.000 /opt/anaconda3/lib/python3.9/site-packages/jupyter_client/session.py:513(msg_id)\n",
      "        2    0.000    0.000    0.000    0.000 /opt/anaconda3/lib/python3.9/site-packages/jupyter_client/session.py:588(sign)\n",
      "        1    0.000    0.000    0.000    0.000 /opt/anaconda3/lib/python3.9/site-packages/jupyter_client/adapter.py:368(adapt)\n",
      "        4    0.000    0.000    0.000    0.000 /opt/anaconda3/lib/python3.9/site-packages/zmq/utils/jsonapi.py:20(dumps)\n",
      "        3    0.000    0.000    0.000    0.000 /opt/anaconda3/lib/python3.9/site-packages/dateutil/parser/_parser.py:1141(_to_decimal)\n",
      "        2    0.000    0.000    0.000    0.000 /opt/anaconda3/lib/python3.9/contextlib.py:123(__exit__)\n",
      "        2    0.000    0.000    0.000    0.000 /opt/anaconda3/lib/python3.9/contextlib.py:114(__enter__)\n",
      "        3    0.000    0.000    0.000    0.000 {method 'split' of 'str' objects}\n",
      "       23    0.000    0.000    0.000    0.000 {built-in method builtins.getattr}\n",
      "        1    0.000    0.000    0.000    0.000 /opt/anaconda3/lib/python3.9/site-packages/dateutil/parser/_parser.py:572(parse)\n",
      "        1    0.000    0.000    0.000    0.000 /opt/anaconda3/lib/python3.9/site-packages/jupyter_client/session.py:863(_add_digest)\n",
      "        6    0.000    0.000    0.000    0.000 {built-in method builtins.next}\n",
      "        2    0.000    0.000    0.003    0.001 /opt/anaconda3/lib/python3.9/threading.py:556(wait)\n",
      "        1    0.000    0.000    0.001    0.001 /opt/anaconda3/lib/python3.9/site-packages/jupyter_client/session.py:792(recv)\n",
      "        4    0.000    0.000    0.000    0.000 /opt/anaconda3/lib/python3.9/json/__init__.py:299(loads)\n",
      "        4    0.000    0.000    0.000    0.000 /opt/anaconda3/lib/python3.9/site-packages/IPython/core/compilerop.py:174(extra_flags)\n",
      "        3    0.000    0.000    0.000    0.000 /opt/anaconda3/lib/python3.9/site-packages/dateutil/parser/_parser.py:428(append)\n",
      "        2    0.000    0.000   82.321   41.161 {built-in method builtins.exec}\n",
      "        2    0.000    0.000    0.000    0.000 /opt/anaconda3/lib/python3.9/threading.py:259(__exit__)\n",
      "        2    0.000    0.000    0.000    0.000 /opt/anaconda3/lib/python3.9/site-packages/jupyter_client/jsonutil.py:84(date_default)\n",
      "        4    0.000    0.000    0.000    0.000 /opt/anaconda3/lib/python3.9/site-packages/jupyter_client/session.py:82(<lambda>)\n",
      "       28    0.000    0.000    0.000    0.000 /opt/anaconda3/lib/python3.9/site-packages/dateutil/parser/_parser.py:208(isnum)\n",
      "        2    0.000    0.000    0.000    0.000 {method 'replace' of 'code' objects}\n",
      "        1    0.000    0.000    0.000    0.000 /opt/anaconda3/lib/python3.9/site-packages/dateutil/parser/_parser.py:199(split)\n",
      "        2    0.000    0.000    0.000    0.000 /opt/anaconda3/lib/python3.9/threading.py:521(__init__)\n",
      "        2    0.000    0.000    0.000    0.000 <frozen importlib._bootstrap>:1033(_handle_fromlist)\n",
      "        8    0.000    0.000    0.000    0.000 /opt/anaconda3/lib/python3.9/hmac.py:111(update)\n",
      "        1    0.000    0.000    0.000    0.000 /opt/anaconda3/lib/python3.9/site-packages/jupyter_client/session.py:569(msg)\n",
      "        1    0.000    0.000    0.000    0.000 /opt/anaconda3/lib/python3.9/site-packages/dateutil/parser/_parser.py:1217(_build_naive)\n",
      "        2    0.000    0.000    0.000    0.000 /opt/anaconda3/lib/python3.9/site-packages/dateutil/parser/_parser.py:1006(_find_hms_idx)\n",
      "        6    0.000    0.000    0.000    0.000 /opt/anaconda3/lib/python3.9/site-packages/jupyter_client/jsonutil.py:44(parse_date)\n",
      "        1    0.000    0.000    0.000    0.000 /var/folders/xf/nzdtc5ts6vb6rqb4szc5hcjc0000gn/T/ipykernel_44456/346067843.py:6(<listcomp>)\n",
      "        1    0.000    0.000    0.000    0.000 /opt/anaconda3/lib/python3.9/site-packages/jupyter_client/session.py:826(feed_identities)\n",
      "        1    0.000    0.000    0.000    0.000 /opt/anaconda3/lib/python3.9/site-packages/dateutil/parser/_parser.py:474(resolve_ymd)\n",
      "       13    0.000    0.000    0.000    0.000 /opt/anaconda3/lib/python3.9/site-packages/dateutil/parser/_parser.py:189(__next__)\n",
      "        1    0.000    0.000    0.000    0.000 /opt/anaconda3/lib/python3.9/site-packages/jupyter_client/session.py:218(msg_header)\n",
      "        4    0.000    0.000    0.000    0.000 /opt/anaconda3/lib/python3.9/json/encoder.py:104(__init__)\n",
      "        4    0.000    0.000    0.000    0.000 /opt/anaconda3/lib/python3.9/site-packages/jupyter_client/session.py:85(<lambda>)\n",
      "        1    0.000    0.000    0.000    0.000 /opt/anaconda3/lib/python3.9/site-packages/dateutil/parser/_parser.py:1133(_parsems)\n",
      "        3    0.000    0.000    0.000    0.000 /opt/anaconda3/lib/python3.9/site-packages/dateutil/parser/_parser.py:336(hms)\n",
      "        2    0.000    0.000    0.000    0.000 {method 'digest' of '_hashlib.HASH' objects}\n",
      "       13    0.000    0.000    0.000    0.000 /opt/anaconda3/lib/python3.9/site-packages/dateutil/parser/_parser.py:234(<genexpr>)\n",
      "        1    0.000    0.000    0.000    0.000 /opt/anaconda3/lib/python3.9/site-packages/dateutil/parser/_parser.py:1177(_build_tzaware)\n",
      "        1    0.000    0.000    0.000    0.000 {built-in method now}\n",
      "        1    0.000    0.000    0.000    0.000 /opt/anaconda3/lib/python3.9/site-packages/dateutil/parser/_parser.py:62(__init__)\n",
      "       14    0.000    0.000    0.000    0.000 /opt/anaconda3/lib/python3.9/site-packages/dateutil/parser/_parser.py:203(isword)\n",
      "        1    0.000    0.000    0.000    0.000 /opt/anaconda3/lib/python3.9/site-packages/dateutil/parser/_parser.py:221(__init__)\n",
      "        1    0.000    0.000    0.000    0.000 {built-in method utcnow}\n",
      "        1    0.000    0.000    0.000    0.000 /opt/anaconda3/lib/python3.9/site-packages/jupyter_client/session.py:566(msg_header)\n",
      "        2    0.000    0.000    0.000    0.000 /opt/anaconda3/lib/python3.9/site-packages/dateutil/parser/_parser.py:1056(_could_be_tzname)\n",
      "        2    0.000    0.000    0.000    0.000 /opt/anaconda3/lib/python3.9/site-packages/dateutil/parser/_parser.py:322(weekday)\n",
      "        2    0.000    0.000    0.000    0.000 /opt/anaconda3/lib/python3.9/hmac.py:147(hexdigest)\n",
      "        1    0.000    0.000    0.000    0.000 <frozen importlib._bootstrap>:398(parent)\n",
      "       25    0.000    0.000    0.000    0.000 {method 'read' of '_io.StringIO' objects}\n",
      "       12    0.000    0.000    0.000    0.000 {built-in method builtins.setattr}\n",
      "        1    0.000    0.000    0.000    0.000 /opt/anaconda3/lib/python3.9/site-packages/dateutil/parser/_parser.py:395(__init__)\n",
      "       32    0.000    0.000    0.000    0.000 {method 'isdigit' of 'str' objects}\n",
      "        2    0.000    0.000    0.000    0.000 /opt/anaconda3/lib/python3.9/threading.py:268(_acquire_restore)\n",
      "        1    0.000    0.000    0.000    0.000 {method 'format' of 'str' objects}\n",
      "        4    0.000    0.000    0.000    0.000 {method 'decode' of 'bytes' objects}\n",
      "        4    0.000    0.000    0.000    0.000 {method 'startswith' of 'str' objects}\n",
      "        3    0.000    0.000    0.000    0.000 /opt/anaconda3/lib/python3.9/site-packages/dateutil/parser/_parser.py:329(month)\n",
      "        1    0.000    0.000    0.000    0.000 /opt/anaconda3/lib/python3.9/site-packages/dateutil/parser/_parser.py:1270(parse)\n",
      "        1    0.000    0.000    0.000    0.000 /opt/anaconda3/lib/python3.9/site-packages/dateutil/parser/_parser.py:233(__len__)\n",
      "        2    0.000    0.000    0.000    0.000 /opt/anaconda3/lib/python3.9/threading.py:256(__enter__)\n",
      "        1    0.000    0.000    0.000    0.000 /opt/anaconda3/lib/python3.9/site-packages/jupyter_client/session.py:744(<listcomp>)\n",
      "        2    0.000    0.000    0.000    0.000 {method 'hexdigest' of '_hashlib.HASH' objects}\n",
      "       20    0.000    0.000    0.000    0.000 {method 'strip' of 'str' objects}\n",
      "        1    0.000    0.000    0.000    0.000 /opt/anaconda3/lib/python3.9/site-packages/dateutil/parser/_parser.py:1099(_parse_min_sec)\n",
      "        2    0.000    0.000    0.000    0.000 {method 'replace' of 'str' objects}\n",
      "        3    0.000    0.000    0.000    0.000 /opt/anaconda3/lib/python3.9/site-packages/jupyter_client/jsonutil.py:31(_ensure_tzinfo)\n",
      "        4    0.000    0.000    0.000    0.000 /opt/anaconda3/lib/python3.9/site-packages/dateutil/parser/_parser.py:213(isspace)\n",
      "        2    0.000    0.000    0.000    0.000 /opt/anaconda3/lib/python3.9/threading.py:265(_release_save)\n",
      "       12    0.000    0.000    0.000    0.000 {method 'lower' of 'str' objects}\n",
      "        2    0.000    0.000    0.000    0.000 /opt/anaconda3/lib/python3.9/site-packages/dateutil/parser/_parser.py:1061(<genexpr>)\n",
      "        2    0.000    0.000    0.000    0.000 /opt/anaconda3/lib/python3.9/site-packages/dateutil/parser/_parser.py:319(jump)\n",
      "        1    0.000    0.000    0.000    0.000 /opt/anaconda3/lib/python3.9/site-packages/dateutil/parser/_parser.py:380(validate)\n",
      "        1    0.000    0.000    0.000    0.000 {built-in method builtins.locals}\n",
      "        5    0.000    0.000    0.000    0.000 {method 'get' of 'dict' objects}\n",
      "        2    0.000    0.000    0.000    0.000 /opt/anaconda3/lib/python3.9/site-packages/dateutil/parser/_parser.py:342(ampm)\n",
      "        1    0.000    0.000    0.000    0.000 /opt/anaconda3/lib/python3.9/site-packages/dateutil/parser/_parser.py:354(tzoffset)\n",
      "        1    0.000    0.000    0.000    0.000 {built-in method builtins.all}\n",
      "       14    0.000    0.000    0.000    0.000 {method 'isalpha' of 'str' objects}\n",
      "        2    0.000    0.000    0.000    0.000 {built-in method __new__ of type object at 0x1069a0a50}\n",
      "        3    0.000    0.000    0.000    0.000 {method 'extend' of 'list' objects}\n",
      "        2    0.000    0.000    0.000    0.000 /opt/anaconda3/lib/python3.9/threading.py:271(_is_owned)\n",
      "        8    0.000    0.000    0.000    0.000 {method 'end' of 're.Match' objects}\n",
      "        2    0.000    0.000    0.000    0.000 {built-in method _imp.lock_held}\n",
      "        1    0.000    0.000    0.000    0.000 /opt/anaconda3/lib/python3.9/site-packages/jupyter_client/session.py:224(extract_header)\n",
      "        1    0.000    0.000    0.000    0.000 /opt/anaconda3/lib/python3.9/site-packages/dateutil/parser/_parser.py:482(<dictcomp>)\n",
      "        2    0.000    0.000    0.000    0.000 {method '__enter__' of '_thread.lock' objects}\n",
      "        1    0.000    0.000    0.000    0.000 {method 'ljust' of 'str' objects}\n",
      "        2    0.000    0.000    0.000    0.000 {method '__exit__' of '_thread.lock' objects}\n",
      "        1    0.000    0.000    0.000    0.000 {method 'rpartition' of 'str' objects}\n",
      "        1    0.000    0.000    0.000    0.000 {method 'copy' of 'dict' objects}\n",
      "        1    0.000    0.000    0.000    0.000 {built-in method _hashlib.compare_digest}\n",
      "        1    0.000    0.000    0.000    0.000 /opt/anaconda3/lib/python3.9/site-packages/dateutil/tz/tz.py:74(utcoffset)\n",
      "        1    0.000    0.000    0.000    0.000 {method 'index' of 'list' objects}\n",
      "        1    0.000    0.000    0.000    0.000 /opt/anaconda3/lib/python3.9/site-packages/dateutil/parser/_parser.py:360(convertyear)\n",
      "        3    0.000    0.000    0.000    0.000 {method 'is_finite' of 'decimal.Decimal' objects}\n",
      "        4    0.000    0.000    0.000    0.000 {method 'isspace' of 'str' objects}\n",
      "        2    0.000    0.000    0.000    0.000 {method 'release' of '_thread.lock' objects}\n",
      "        1    0.000    0.000    0.000    0.000 /opt/anaconda3/lib/python3.9/site-packages/jupyter_client/session.py:942(<listcomp>)\n",
      "        1    0.000    0.000    0.000    0.000 {method 'disable' of '_lsprof.Profiler' objects}\n",
      "        1    0.000    0.000    0.000    0.000 {method 'add' of 'set' objects}\n",
      "        1    0.000    0.000    0.000    0.000 /opt/anaconda3/lib/python3.9/site-packages/dateutil/parser/_parser.py:402(has_year)\n",
      "        1    0.000    0.000    0.000    0.000 /opt/anaconda3/lib/python3.9/site-packages/dateutil/parser/_parser.py:186(__iter__)\n",
      "        1    0.000    0.000    0.000    0.000 {built-in method builtins.callable}\n",
      "\n",
      "\n",
      "<pstats.Stats object at 0x109c4bfa0>\n"
     ]
    }
   ],
   "source": [
    "sortby = 'tottime'\n",
    "ps = pstats.Stats(pr).sort_stats(sortby)\n",
    "print(ps.print_stats())"
   ]
  },
  {
   "cell_type": "code",
   "execution_count": null,
   "metadata": {},
   "outputs": [],
   "source": []
  }
 ],
 "metadata": {
  "kernelspec": {
   "display_name": "base",
   "language": "python",
   "name": "python3"
  },
  "language_info": {
   "codemirror_mode": {
    "name": "ipython",
    "version": 3
   },
   "file_extension": ".py",
   "mimetype": "text/x-python",
   "name": "python",
   "nbconvert_exporter": "python",
   "pygments_lexer": "ipython3",
   "version": "3.9.12 (main, Apr  5 2022, 01:53:17) \n[Clang 12.0.0 ]"
  },
  "orig_nbformat": 4,
  "vscode": {
   "interpreter": {
    "hash": "40d3a090f54c6569ab1632332b64b2c03c39dcf918b08424e98f38b5ae0af88f"
   }
  }
 },
 "nbformat": 4,
 "nbformat_minor": 2
}
