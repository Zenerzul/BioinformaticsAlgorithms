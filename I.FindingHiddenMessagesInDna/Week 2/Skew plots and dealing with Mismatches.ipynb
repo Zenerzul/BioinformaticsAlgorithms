{
 "cells": [
  {
   "attachments": {},
   "cell_type": "markdown",
   "metadata": {},
   "source": [
    "# Week 2"
   ]
  },
  {
   "cell_type": "code",
   "execution_count": 25,
   "metadata": {},
   "outputs": [],
   "source": [
    "def BetterFrequentWords(Text, k):\n",
    "    '''\n",
    "    Function to find the most common k-mers of certain length in text\n",
    "    '''\n",
    "    \n",
    "    frequentPatterns = list()\n",
    "    freqMap = FrequencyTable(Text, k)\n",
    "\n",
    "    max_freq = MaxFreq(freqMap)\n",
    "\n",
    "    for pattern in freqMap:\n",
    "        if freqMap[pattern] == max_freq:\n",
    "            frequentPatterns.append(pattern)\n",
    "\n",
    "    return frequentPatterns\n",
    "\n",
    "\n",
    "def FrequencyTable(Text, k):\n",
    "    '''\n",
    "    Function to create dictionary of all k-mers and their counts in chosen Text\n",
    "    '''\n",
    "    freqMap = dict()\n",
    "\n",
    "    for i in range(len(Text) - k + 1):\n",
    "        Pattern = Text[i:i+k]\n",
    "        if Pattern not in freqMap:\n",
    "            freqMap[Pattern] = 1\n",
    "        else:\n",
    "            freqMap[Pattern] += 1\n",
    "    return freqMap\n",
    "\n",
    "\n",
    "def MaxFreq(Dictionary: dict):\n",
    "    '''\n",
    "    Function to return max value from dictionary\n",
    "    '''\n",
    "\n",
    "    maxValue = max(\n",
    "        Dictionary, key=Dictionary.get\n",
    "    )\n",
    "    return Dictionary[maxValue]\n",
    "\n",
    "    \n",
    "def ReverseComplement(String):\n",
    "    '''\n",
    "    Function to return reverse complement of given DNA strand at 5->3 direction\n",
    "    '''\n",
    "\n",
    "    nucleotidesDict = {\n",
    "        \"A\": \"T\", \"T\": \"A\", \"G\": \"C\", \"C\": \"G\"\n",
    "    }\n",
    "\n",
    "    reverseComplement = str()\n",
    "    for i in String:\n",
    "        reverseComplement += nucleotidesDict[i]\n",
    "    \n",
    "    return reverseComplement[::-1]\n",
    "\n",
    "    \n",
    "def SortPatternsDict(Dictionary):\n",
    "    '''\n",
    "    Function return dictionary sorted by value.\n",
    "    '''\n",
    "\n",
    "    sortedDict = {\n",
    "        key: value for key, value in sorted(Dictionary.items(), key=lambda item: item[1], reverse=True)\n",
    "    }\n",
    "    return sortedDict"
   ]
  },
  {
   "cell_type": "markdown",
   "metadata": {},
   "source": [
    "In our previous discussion, we saw that the skew is decreasing along the reverse half-strand and increasing along the forward half-strand. Thus, the skew should achieve a minimum at the position where the reverse half-strand ends and the forward half-strand begins, which is exactly the location of ori!"
   ]
  },
  {
   "cell_type": "markdown",
   "metadata": {},
   "source": [
    "### Skew Plots"
   ]
  },
  {
   "cell_type": "code",
   "execution_count": 3,
   "metadata": {},
   "outputs": [],
   "source": [
    "def Skew(String, print_skew=False):\n",
    "    skew = 0\n",
    "    skew_list = [0]\n",
    "\n",
    "    for i in String:\n",
    "        if i == 'C':\n",
    "            skew -= 1\n",
    "        elif i == 'G':\n",
    "            skew += 1\n",
    "        skew_list.append(skew)\n",
    "    if print_skew:\n",
    "        print(*skew_list)\n",
    "\n",
    "    return skew_list\n",
    "\n",
    "\n",
    "def SkewMinIndices(String, print_indices=False):\n",
    "    skewList = Skew(String)\n",
    "    min_skew = min(skewList)\n",
    "\n",
    "    indices = [\n",
    "        index for index, element in enumerate(skewList) if element==min_skew\n",
    "    ]\n",
    "    \n",
    "    if print_indices:\n",
    "        print(*indices)\n",
    "    else:\n",
    "        return indices\n"
   ]
  },
  {
   "cell_type": "code",
   "execution_count": 9,
   "metadata": {},
   "outputs": [
    {
     "name": "stdout",
     "output_type": "stream",
     "text": [
      "11 24\n"
     ]
    }
   ],
   "source": [
    "SkewMinIndices(\n",
    "    String='TAAAGACTGCCGAGAGGCCAACACGAGTGCTAGAACGAGGGGCGTAAACGCGGGTCCGAT',\n",
    "    print_indices=True\n",
    ")"
   ]
  },
  {
   "cell_type": "markdown",
   "metadata": {},
   "source": [
    "Solving the Minimum Skew Problem now provides us with an approximate location of ori at position of E. coli. "
   ]
  },
  {
   "cell_type": "code",
   "execution_count": 10,
   "metadata": {},
   "outputs": [
    {
     "name": "stdout",
     "output_type": "stream",
     "text": [
      "3923620 3923621 3923622 3923623\n"
     ]
    }
   ],
   "source": [
    "with open(\"/Users/olegsuchalko/BioinformaticsAlgorithms/Part_1/E_coli.txt\") as genome_file:\n",
    "    ecoli_genome = genome_file.readline()\n",
    "    \n",
    "SkewMinIndices(String=ecoli_genome, print_indices=True)"
   ]
  },
  {
   "cell_type": "code",
   "execution_count": 11,
   "metadata": {},
   "outputs": [
    {
     "data": {
      "text/plain": [
       "['AAGGATCCG', 'AGGATCCGG']"
      ]
     },
     "execution_count": 11,
     "metadata": {},
     "output_type": "execute_result"
    }
   ],
   "source": [
    "BetterFrequentWords(\n",
    "    Text=ecoli_genome[3923620-500:3923620+500],\n",
    "    k=9\n",
    ")"
   ]
  },
  {
   "cell_type": "code",
   "execution_count": 12,
   "metadata": {},
   "outputs": [
    {
     "name": "stdout",
     "output_type": "stream",
     "text": [
      "AAGGATCCG \t 2\n",
      "AGGATCCGG \t 2\n"
     ]
    }
   ],
   "source": [
    "x = SortPatternsDict(\n",
    "    FrequencyTable(\n",
    "        Text=ecoli_genome[3923620-500:3923620+500],\n",
    "        k=9\n",
    "    )\n",
    ")\n",
    "for i in x:\n",
    "    if x[i] == MaxFreq(x):\n",
    "        print(i, '\\t', x[i]) "
   ]
  },
  {
   "attachments": {},
   "cell_type": "markdown",
   "metadata": {},
   "source": [
    "DnaA can bind not only to \"perfect\" DnaA boxes but to their slight variations as well!\n",
    "\n",
    "We will calculate Hamming distance to compare, how similar are our patterns:"
   ]
  },
  {
   "cell_type": "code",
   "execution_count": 13,
   "metadata": {},
   "outputs": [
    {
     "data": {
      "text/plain": [
       "3"
      ]
     },
     "execution_count": 13,
     "metadata": {},
     "output_type": "execute_result"
    }
   ],
   "source": [
    "def HammingDistance(p, q):\n",
    "    hammingDist = 0\n",
    "\n",
    "    for i in range(len(p)):\n",
    "        if p[i] != q[i]:\n",
    "            hammingDist += 1\n",
    "\n",
    "    return hammingDist\n",
    "\n",
    "\n",
    "HammingDistance('GGGCCGTTGGT', 'GGACCGTTGAC')"
   ]
  },
  {
   "cell_type": "code",
   "execution_count": 14,
   "metadata": {},
   "outputs": [
    {
     "data": {
      "text/plain": [
       "896"
      ]
     },
     "execution_count": 14,
     "metadata": {},
     "output_type": "execute_result"
    }
   ],
   "source": [
    "HammingDistance(\n",
    "    'CAGAGATGCACTTAGGAAGCCCTTAAGCTAGTTGCCTGACGAGGAGCGAATGGTAGACCGGTGGAACCACTGCGGGTACGATCCTCTGGGCAGGAACCCTCAAACTGCCCTTCCTGGGGGCGATCACCATAGGTCAATTTCCTGCCATCCTCAACGTTATTCGGTGATGCGTTATCTGGGAGGTTTCTGTGAAGAGAGCGGCGTCCTGTCGGCGATCGCGCCCGGTTATTGACTTTGGAAAATGTTCCAAGGATCACTCGTACGAATCAATGCATGGCTCTTGACCCCTAACCTGCAAGTTTACTAGCACGTAGTGAATTTGAACGAATGGTATGGGAGGTTACGTCTTGAATGGCCCGTATCAAGCCATCGGACCTTACAATAGTTCGATATAGTTTGTTAGTAATCGACAGCGGTAATGTTATGTAGCCACCGAATATCCGGCCTAATCTACCTCGTACCAAGGGTTCTGTCAGTGAGCCTTCATGAATCTGACGGGCTAGCAGTAGGACGGCCAGCGTAACTTTACAAGCTTCTAGAGCGTACGGAAATTGGTCGCATGGGTCTGCTCTGTCTAATCTGGATACAGGGGCCATCCGGCGGACTTTCGTGCTTGTAGTAGGTCACCTATTCTCCACAAAAGACTAACTTACTACAATTAGCTCAGAATCCTTGGACCCGAAGACACTAGCAGCTGGCATCAATCAGACTGCCTCGGACTCTAGTATCGAGCGTGGTCAGGCTCCAGTCTTTGGATCGTTTGCTAGCCCCTCCCCAAATATTTAGGATAGACGCGGCGCGGCCGGCAAGGCGTCTGACCGGGAGTATTTGTGACTAGTGGGTAGTTTAAATCTTTGAGGGCTTGTTCCTCGTAGATTGCACTACGCGTCGCAGAGTTCACCCATGACTTCCCAATCGTCTAGTCAAAACTGCTGGAAGTTCAGACTATCAGCTTATGCTCTGTTGTTCCTCGTTTACTCTTACATTTGATCAAGCAAGCGGTCAATACTTTGGACCGGAGTTAGCACAGGGCAATCGATGCGGACGCCTAACTAGCGTTTCTAATGAGCAAAATGTGAACAAATTGTCGCCGCACTACCGGTTGGATAAAGCCCTCTGCACCCTATAGCCGGAAAACGCGCAGAGCTCCCCACCCTGCCGACATCCCATAATAATAC',\n",
    "    'GTTCGACTATGGTTAATACTTTGAGCGCGGGGGATGCTCCGCTATCTTCGTACGTACAGTACATTTAGTGCAGAGAGACCTTCGTCCGATGTGAATTGGGCATCTGTTGTGATGTAGACTAAACTATGATAATTCGCGTATGCCTAGCCTGCATATAATGGGCAGCTGCAAATCCGACGCCTGTGCTCCTTACTTAAGTAAACGGAACTAGCCTTCAGAAAAGCACGATGCGATGATTAGAGTAAAGAACGGGACAATTCGCGTTCTTCTAAAAAACTTTAACACTGCAGTATGCCTTTGGCTGGTTAGTACTCACTTTACGGTTCGGCAGACCCGTACAATTCAAGGTTTCTACTGGGATCCTACGCTTTGCGTCTACATGCCCCCTCAACTCAAATGGGATCCGCGAGATTATATCGCGCACCTGGGTGCACGCTGGTGTTGTTAAAAAATTCGCGGGCCCCCCTAACAAGCCAGCTGTTACCCGACTGCCTATATTCACCGCCCTGAATACGGCCCAGGAGCAGTTCGAGGCCGCGAAACAGAACCAGACAATTGAGCACTGCGGCGCTGAAATGGGGCCGTCCTTTTGCCTTTCTCAGAGAGTGCTGATCCTACTGTGCCGTCCCGTTGTGCGCAATATCGTGCGTATCTTCTCAAGGAGTGGCTACAGGATGCCGACGACCTCACACGCTCGAGCGAGAACGGGTGGTTTGAAAAAGACGCAGCCACTGCGGCTTGAAAGTACGGGTTAGTCCCAAAGTTTCAGATGAACCGTGCGTTCAACACAGAGTTGATTGACTGACGCTGAGGCTAGTGGAATAGTAGAATAGTTATTCTCCTGGACTTATCCATCAACTTGGACTACTGGTCGGAGCCCTTCTAGTGACTTACCTTCGAAGTCCACCTTGTTCGTTAATACAACCTACCCGAAGAGCAGCCCCTCTGATTCGCCACGGACCAGCTTGAGAATCCTCTGATAAAACTACCAATTCTCACGGGCTACGTCAGTTGTAGTCTAGCCTATTCGCCACCAGGCGCCTCGGATTGCATGAAGAGACAGGCTGCGATGCTCCGGAGCTCCCTGTGTATGCGGCCAGTAAACCTAGAAACAAGCAAAATGTTCACATCGCGTTCACCCCGGAACGGTTCGTCGCTAAAGAAGGGTAAAACGACTC'\n",
    ")"
   ]
  },
  {
   "cell_type": "markdown",
   "metadata": {},
   "source": [
    "Then we try to find Matches of Pattern or similar Patterns"
   ]
  },
  {
   "cell_type": "code",
   "execution_count": 15,
   "metadata": {},
   "outputs": [],
   "source": [
    "def ApproximatePatternMatching(Text, String, d, print_values=False):\n",
    "\n",
    "    patternLength = len(String)\n",
    "    patternMatches = list()\n",
    "\n",
    "    for i in range(len(Text) - patternLength + 1):\n",
    "        Window = Text[i:i+patternLength]\n",
    "\n",
    "        if Window == String:\n",
    "            patternMatches.append(i)\n",
    "        elif HammingDistance(Window, String) <= d:\n",
    "            patternMatches.append(i)\n",
    "    \n",
    "    if print_values:\n",
    "        print(*patternMatches)\n",
    "    else:\n",
    "        return patternMatches\n",
    "\n",
    "\n",
    "def CountSimilarPatterns(Text, String, d):\n",
    "    return len(ApproximatePatternMatching(Text, String, d))\n"
   ]
  },
  {
   "cell_type": "code",
   "execution_count": 16,
   "metadata": {},
   "outputs": [
    {
     "name": "stdout",
     "output_type": "stream",
     "text": [
      "6 7 26 27\n"
     ]
    },
    {
     "data": {
      "text/plain": [
       "4"
      ]
     },
     "execution_count": 16,
     "metadata": {},
     "output_type": "execute_result"
    }
   ],
   "source": [
    "ApproximatePatternMatching(\n",
    "    String='ATTCTGGA',\n",
    "    Text='CGCCCGAATCCAGAACGCATTCCCATATTTCGGGACCACTGGCCTCCACGGTACGGACGTCAATCAAAT',\n",
    "    d=3,\n",
    "    print_values=True\n",
    ")\n",
    "\n",
    "CountSimilarPatterns(\n",
    "    String='ATTCTGGA',\n",
    "    Text='CGCCCGAATCCAGAACGCATTCCCATATTTCGGGACCACTGGCCTCCACGGTACGGACGTCAATCAAAT',\n",
    "    d=3\n",
    ")"
   ]
  },
  {
   "attachments": {},
   "cell_type": "markdown",
   "metadata": {},
   "source": [
    "Now we want to count Pattern and similar Patterns occurance in Text"
   ]
  },
  {
   "cell_type": "code",
   "execution_count": 17,
   "metadata": {},
   "outputs": [
    {
     "data": {
      "text/plain": [
       "36"
      ]
     },
     "execution_count": 17,
     "metadata": {},
     "output_type": "execute_result"
    }
   ],
   "source": [
    "CountSimilarPatterns(\n",
    "    Text='GTCACCATTGTCGCCCCTGTTTCATTGTTTGAAATTATAATAGGCGGGCGGATTAGACTCCAGGACGTAAATCTGGAAACCTCGATGTCCTGCGACTTTGCCTTAGAGGCCGAGTGGTTCTCAACGATCCTTACGCGGAAACGATGCCCTCGTAAAAGAACACTTTAATCAAGGCCGCGTCACGTTTTTGGCGGTGTTACAGTGTTGGCCAAGGCCGCAGATCCAATTGTTGCGAAACATCTCCCTGCTTTCGCAGGATCGCGACGAACGACTTTGGCCTTAGTTGGTGTCTCTAAGTGTGACTAACGGGAGGATGTCGTTACTTACACCCGCAACGTTCACTCTTTGTA',\n",
    "    String='CTCCC',\n",
    "    d=2\n",
    ")"
   ]
  },
  {
   "attachments": {},
   "cell_type": "markdown",
   "metadata": {},
   "source": [
    "#### Frequent Words with Mismatches Problem: \n",
    "Find the most frequent k-mers with mismatches in a string."
   ]
  },
  {
   "attachments": {},
   "cell_type": "markdown",
   "metadata": {},
   "source": [
    "The collection of all such k-mers is called the d-neighborhood of Pattern, denoted Neighbors(Pattern, d)"
   ]
  },
  {
   "cell_type": "code",
   "execution_count": 18,
   "metadata": {},
   "outputs": [],
   "source": [
    "def Suffix(Pattern):\n",
    "    return Pattern[1:]\n",
    "    \n",
    "\n",
    "def Neighbors(Pattern, d):\n",
    "    if d == 0:\n",
    "        return Pattern\n",
    "    if len(Pattern) == 1:\n",
    "        return {'A', 'T', 'G', 'C'}\n",
    "    \n",
    "    Neighborhood = set()\n",
    "    NeighborSuffix = Neighbors(Suffix(Pattern), d)\n",
    "\n",
    "    for Neighbor in NeighborSuffix:\n",
    "        if HammingDistance(Suffix(Pattern), Neighbor) < d:\n",
    "            for i in 'ATGC':\n",
    "                Neighborhood.add(i+Neighbor)\n",
    "        else:\n",
    "            Neighborhood.add(Pattern[0] + Neighbor)\n",
    "            \n",
    "    return list(Neighborhood)\n"
   ]
  },
  {
   "attachments": {},
   "cell_type": "markdown",
   "metadata": {},
   "source": [
    "Use Recursion to create set of Neighbors with distance d"
   ]
  },
  {
   "cell_type": "code",
   "execution_count": 19,
   "metadata": {},
   "outputs": [
    {
     "name": "stdout",
     "output_type": "stream",
     "text": [
      "CGGCCTGT CAGCCGCC CGCCCCGC CGGCGTGC CAGCCGGT CGGCCCCC CGGCAGGA TGGACGGC AGCCCGGC CGGTTGGC CGCCCGTC CGGCTGGG CAGTCGGC CGCCCGAC CGACCGGA TGGCAGGC CGACTGGC CGCCTGGC CCGCCGGA GCGCCGGC CGGAGGGC GGGACGGC GGGCCGGT CGGCCGAC AGGCCAGC CCGTCGGC CCCCCGGC CGTCCCGC CGGCTCGC CGGCGGAC AGGCGGGC CTGGCGGC CGGCCGCC CGCTCGGC CGGCCTCC GGCCCGGC CGGCCGTG CGTCCGGG AGGCCGGT CGGCAGGG CGGCTGTC CGGACCGC CCGCCGGC CGGCCAAC CGGCAGGC AGGCTGGC CGGCTGAC CGGGCGGA CTGCCGAC CGACAGGC CAGGCGGC CGACCGGT CGGCTGGA CGGGCCGC CCGCCGCC CGGTCGGT CGGGCGAC CGGCCCGC CGGCCGGC CGGGCGCC AGTCCGGC CGGACGGG CGGGCAGC CGGCGGTC CGGTCGGG CGGACGTC ACGCCGGC AGGCCGGC CGCGCGGC CGAACGGC CGTCCGGC CGGCCCGT TGGCCGAC CTGCCGTC CGGCCGAT CGGCGAGC CAGCCGGA CCGCCGGG TTGCCGGC CGGCCAGT CGGCAAGC GGGCCGCC CGAGCGGC CGGCCTGC CGGACGGT TGGCCGGA CGCCGGGC CGGCTGCC CGGCCATC CGTCCAGC CGGCGGGA TGGCCCGC CGGTCGCC CGGCCGCT TAGCCGGC GGGTCGGC CTGCTGGC CTTCCGGC CGGGCGTC CCACCGGC TGGCCGGC CGGCAGAC CGGGAGGC CGGTCGGA CGGCACGC CCGCCGAC CGGCCGGG GGGCCAGC CGACCGTC CGTCCGCC GGGCCGGC CAGCCCGC GGGCGGGC CAGCCGTC CGTCCGGT CGGTCTGC CTGCCTGC GGGCCTGC CGGTCAGC CACCCGGC CGTTCGGC CGGAAGGC CGACCGCC CGGGTGGC CGACGGGC CGGCCGTA CGGCCGAG TGACCGGC CGATCGGC CGGCCCGA CTGCAGGC CAGACGGC GTGCCGGC CAGCGGGC GAGCCGGC CCGCGGGC AGGCCGGA CCGGCGGC CGGTCCGC CCGCCGGT CGTGCGGC CGGACGGC CGGCCGAA TGGCTGGC CGGCCAGC CGGCCTAC GGGCCGAC CGCCCGCC CGGCCAGA CGACCGGC CGTCTGGC CGGCCTTC AGGCCCGC CGGCAGGT CGGCCCAC CGACCGGG CGGCCGGA CGGCAGCC CGGGCGGT CGGCGGGC CGGTCGTC CGGGCTGC CTCCCGGC AGGCCGCC CGGTGGGC CTGCCGGA CGGACGCC CGGCCGTT AGACCGGC CGGCCTGG CGGCTAGC CTGCGGGC GGGGCGGC CGCCCTGC ATGCCGGC CGGACGGA CGACCGAC AGGCCGGG CGGGCGGG CGACCAGC CGGCGGGT CCGCCCGC CGCCCGGG AGGCCGAC CGCCCAGC CGGCAGTC CGGTAGGC CGTACGGC CGTCAGGC CGGCATGC CCGCCAGC AGGACGGC CGTCCTGC CCGACGGC TGGCGGGC CGGCGGCC CGGACTGC CGGTCGGC TGGCCGCC CGACCCGC AAGCCGGC CAGCCAGC CTGCCGCC GGACCGGC CAGCCTGC CGCCCGGA AGGCCTGC CGGGGGGC CGGTCGAC TGGCCGGG TGGCCTGC CTGACGGC CGGACAGC CGTCGGGC CGTCCGTC CGGCCCGG CCGCCTGC CTGCCGGG GGTCCGGC CAGCCGGC CAGCCGAC AGGCCGTC CGGCCGGT CGCACGGC CAGCTGGC TGCCCGGC CTGCCGGC CCGCAGGC CATCCGGC TGGGCGGC CGGCGCGC CTACCGGC CTGCCCGC CGGCTGGT GGGCCGTC CGGCTTGC CGGCGGGG AGGCAGGC CGGATGGC CAGCAGGC CGGCTGGC TGGCCGGT CGGACGAC CGGCCGCG CGTCCGAC GGGCAGGC CGGCCCTC CGGCCGTC CGCCCGGT CCTCCGGC TGGCCAGC TGTCCGGC GGGCCCGC CGGGCGGC GGGCCGGG CTGCCGGT CGCCCGGC GGGCTGGC CAGCCGGG AGGTCGGC CGGCCAGG CGGCCACC CGCCAGGC TGGTCGGC CCGCTGGC AGGGCGGC CTGTCGGC CTGCCAGC CGTCCGGA CGACCTGC CCGCCGTC TCGCCGGC CGGCCGCA CAACCGGC GGGCCGGA TGGCCGTC CGGCCTGA\n"
     ]
    }
   ],
   "source": [
    "x = Neighbors('CGGCCGGC', 2)\n",
    "print(*x)"
   ]
  },
  {
   "attachments": {},
   "cell_type": "markdown",
   "metadata": {},
   "source": [
    "Now we are ready to combine generation of **Neighbors** of variance **d** with **Frequent Words Matching** problem."
   ]
  },
  {
   "cell_type": "code",
   "execution_count": 20,
   "metadata": {},
   "outputs": [],
   "source": [
    "def FrequentWordsWithMismatches(\n",
    "    Text, k, d, print_output=False\n",
    "):\n",
    "    Patterns = list()\n",
    "    freqMap = dict()\n",
    "    n = len(Text)\n",
    "\n",
    "    for i in range(0, n-k+1):\n",
    "        Pattern = Text[i:i+k] # перебираем паттерны по строке\n",
    "        neighborhood = Neighbors(Pattern, d) # создаем множество соседей - паттернов, которые отличаются от нашего паттерна на d\n",
    "\n",
    "        for j in range(len(neighborhood) - 1): # проверяем всех соседей по словарю, добавляем +1 счет\n",
    "            neighbor = neighborhood[j]\n",
    "\n",
    "            if neighbor not in freqMap:\n",
    "                freqMap[neighbor] = 1\n",
    "            else:\n",
    "                freqMap[neighbor] += 1\n",
    "\n",
    "    maxPattern = MaxFreq(freqMap) # находим максимумальное значение по строке в словаре и выводим все паттерны, у которых столько совпадений со строкой\n",
    "    for key in freqMap:\n",
    "        if freqMap[key] == maxPattern:\n",
    "            Patterns.append(key)\n",
    "\n",
    "    if print_output:\n",
    "        print(*Patterns)\n",
    "    else:\n",
    "        return Patterns"
   ]
  },
  {
   "cell_type": "code",
   "execution_count": 21,
   "metadata": {},
   "outputs": [
    {
     "data": {
      "text/plain": [
       "['AGCAAGC']"
      ]
     },
     "execution_count": 21,
     "metadata": {},
     "output_type": "execute_result"
    }
   ],
   "source": [
    "FrequentWordsWithMismatches(\n",
    "    Text='CAACACAAGGCAGGCAGGCAGCGCAATCTTAGGCAGGCTCTTCAACACAAGCGAGCGTCTTAGGCTCTTCACAAGCGCAATCTTCACATCTTAGGCCACAAGCGAGGCAGCGTCTTCAAAGGCCACACAACAACAAAGGCAGCGCAATCTTCAACAACACACAATCTTTCTTTCTTTCTTCAAAGGCAGGCAGGCAGGCCACAAGCGAGGCCACAAGGCAGCGAGGCAGCGAGCGCACAAGCGTCTTAGCGAGGCAGCGCACAAGCGAGGCAGCGAGCGTCTTTCTTAGGCCAATCTTTCTTAGGCAGCGCACAAGGCAGGCTCTTAGGC',\n",
    "    k=7, d=2\n",
    ")"
   ]
  },
  {
   "attachments": {},
   "cell_type": "markdown",
   "metadata": {},
   "source": [
    "And finally we want to add ReverseComplement into previous function:"
   ]
  },
  {
   "cell_type": "code",
   "execution_count": 22,
   "metadata": {},
   "outputs": [],
   "source": [
    "def FrequentWordsWithMismatchesAndReverseComplement(\n",
    "    Text, k, d, print_output=False\n",
    "):\n",
    "    Patterns = list()\n",
    "    freqMap = dict()\n",
    "    n = len(Text)\n",
    "\n",
    "    for i in range(0, n-k+1):\n",
    "        Pattern = Text[i:i+k] # перебираем паттерны по строке\n",
    "        neighborhood = Neighbors(Pattern, d) + Neighbors(ReverseComplement(Pattern), d) \n",
    "        # создаем множество соседей - паттернов, которые отличаются от нашего паттерна на d, а также множество соседей для RC\n",
    "\n",
    "        for j in range(len(neighborhood) - 1): # проверяем всех соседей по словарю, добавляем +1 счет\n",
    "            neighbor = neighborhood[j]\n",
    "\n",
    "            if neighbor not in freqMap:\n",
    "                freqMap[neighbor] = 1\n",
    "            else:\n",
    "                freqMap[neighbor] += 1\n",
    "\n",
    "    maxPattern = MaxFreq(freqMap) # находим максимальное значение по строке в словаре и выводим все паттерны, у которых столько совпадений со строкой\n",
    "    for key in freqMap:\n",
    "        if freqMap[key] == maxPattern:\n",
    "            Patterns.append(key+'_x'+str(freqMap[key]))\n",
    "    if print_output:\n",
    "        print(*Patterns)\n",
    "    else:\n",
    "        return Patterns"
   ]
  },
  {
   "cell_type": "code",
   "execution_count": 23,
   "metadata": {},
   "outputs": [
    {
     "name": "stdout",
     "output_type": "stream",
     "text": [
      "CTCCTCC TCCTCCT\n"
     ]
    }
   ],
   "source": [
    "FrequentWordsWithMismatches(\n",
    "    Text='CCTCCGCCTTGTTGTCCTAAACCTAAACCGTGTCCTTGTAAACCGCCTTGTCCTCCTAAACCGAAACCTTGTCCTCCTTGTAAATGTCCGCCGCCTCCTCCGTGTCCGCCTCCGCCGAAATGTTGTCCGCCTAAACCGAAACCTCCTAAATGTCCGCCTTGTCCGTGTCCTAAACCTTGTAAAAAATGTCCTCCTTGTAAATGTAAACCTTGTCCTCCTCCTTGTTGTTGTCCGCCT',\n",
    "    k=7, d=2, print_output=True\n",
    ")"
   ]
  },
  {
   "cell_type": "code",
   "execution_count": 26,
   "metadata": {},
   "outputs": [
    {
     "name": "stdout",
     "output_type": "stream",
     "text": [
      "CTCCTCC_x26 GGAGGAG_x26 TCCTCCT_x26 AGGAGGA_x26\n"
     ]
    }
   ],
   "source": [
    "FrequentWordsWithMismatchesAndReverseComplement(\n",
    "    Text='CCTCCGCCTTGTTGTCCTAAACCTAAACCGTGTCCTTGTAAACCGCCTTGTCCTCCTAAACCGAAACCTTGTCCTCCTTGTAAATGTCCGCCGCCTCCTCCGTGTCCGCCTCCGCCGAAATGTTGTCCGCCTAAACCGAAACCTCCTAAATGTCCGCCTTGTCCGTGTCCTAAACCTTGTAAAAAATGTCCTCCTTGTAAATGTAAACCTTGTCCTCCTCCTTGTTGTTGTCCGCCT',\n",
    "    k=7, d=2, print_output=True\n",
    ")"
   ]
  },
  {
   "cell_type": "markdown",
   "metadata": {},
   "source": [
    "E.coli genome is still too big. But we can look at possible ori region, found via Skew"
   ]
  },
  {
   "cell_type": "code",
   "execution_count": 27,
   "metadata": {},
   "outputs": [
    {
     "data": {
      "text/plain": [
       "[3923620, 3923621, 3923622, 3923623]"
      ]
     },
     "execution_count": 27,
     "metadata": {},
     "output_type": "execute_result"
    }
   ],
   "source": [
    "ecoli_indices = SkewMinIndices(String=ecoli_genome)\n",
    "ecoli_indices"
   ]
  },
  {
   "cell_type": "code",
   "execution_count": 28,
   "metadata": {},
   "outputs": [
    {
     "name": "stdout",
     "output_type": "stream",
     "text": [
      "AAGAGATCT_x4 AAGGATCCT_x4 AATGATCCG_x4 AGAACAACA_x4 AGATCTCTT_x4 AGCTGGGAT_x4 AGGATCCTT_x4 ATCCCAGCT_x4 CAGAAGATC_x4 CCAGGATCC_x4 CGGATCATT_x4 CTGGGATCA_x4 CTGTTGATC_x4 GATCAACAG_x4 GATCCCAGC_x4 GATCTTCTG_x4 GCTGGGATC_x4 GGATCCTGG_x4 GGTTATCCA_x4 GTGGATAAC_x4 GTTATCCAC_x4 GTTGATCCT_x4 TCTGGATAA_x4 TGATCAACA_x4 TGATCCCAG_x4 TGGATAACC_x4 TGTGAATAA_x4 TGTGGATAA_x4 TGTTGATCA_x4 TGTTGTTCT_x4 TTATCCACA_x4 TTATCCAGA_x4 TTATTCACA_x4\n"
     ]
    }
   ],
   "source": [
    "print(*sorted(FrequentWordsWithMismatchesAndReverseComplement(\n",
    "    Text=ecoli_genome[\n",
    "        3923620:3924120\n",
    "    ], k=9, d=1\n",
    ")))"
   ]
  },
  {
   "attachments": {},
   "cell_type": "markdown",
   "metadata": {},
   "source": [
    "#### Now we can compute the most frequent k-mers with mismatches and RC!"
   ]
  },
  {
   "attachments": {},
   "cell_type": "markdown",
   "metadata": {},
   "source": [
    "Thus, the moral of this chapter is that even though computational predictions can be powerful, bioinformaticians should collaborate with biologists to verify their computational predictions"
   ]
  },
  {
   "attachments": {},
   "cell_type": "markdown",
   "metadata": {},
   "source": [
    "## Final Challenge by working with the Salmonella enterica genome\n",
    "\n",
    "### Find a DnaA box in Salmonella enterica."
   ]
  },
  {
   "cell_type": "code",
   "execution_count": 29,
   "metadata": {},
   "outputs": [],
   "source": [
    "with open('/Users/olegsuchalko/BioinformaticsAlgorithms/Part_1/Salmonella_enterica.txt') as genome_file:\n",
    "    salmonella_genome = genome_file.readlines()"
   ]
  },
  {
   "cell_type": "code",
   "execution_count": 30,
   "metadata": {},
   "outputs": [
    {
     "data": {
      "text/plain": [
       "4809037"
      ]
     },
     "execution_count": 30,
     "metadata": {},
     "output_type": "execute_result"
    }
   ],
   "source": [
    "salmonella_genome_strip = [ line.strip() for line in salmonella_genome[1:]]\n",
    "salmonella_genome_seq = ''.join(salmonella_genome_strip)\n",
    "\n",
    "\n",
    "len(salmonella_genome_seq)"
   ]
  },
  {
   "cell_type": "code",
   "execution_count": 31,
   "metadata": {},
   "outputs": [
    {
     "data": {
      "text/plain": [
       "[3764856, 3764858]"
      ]
     },
     "execution_count": 31,
     "metadata": {},
     "output_type": "execute_result"
    }
   ],
   "source": [
    "SkewMinIndices(salmonella_genome_seq)"
   ]
  },
  {
   "cell_type": "markdown",
   "metadata": {},
   "source": [
    "In origin region, defined by Skew plot and SkewMinIndices func we can find most common k-mers with length 9 and mm rate 1"
   ]
  },
  {
   "cell_type": "code",
   "execution_count": 32,
   "metadata": {},
   "outputs": [
    {
     "name": "stdout",
     "output_type": "stream",
     "text": [
      "TTATCCACA_x6 TGTGGATAA_x6\n"
     ]
    }
   ],
   "source": [
    "FrequentWordsWithMismatchesAndReverseComplement(\n",
    "    Text=salmonella_genome_seq[3764786-500:3764786+500],\n",
    "    k=9, d=1, print_output=True\n",
    ")"
   ]
  },
  {
   "cell_type": "markdown",
   "metadata": {},
   "source": [
    "And those are the same as fo E.coli !"
   ]
  }
 ],
 "metadata": {
  "kernelspec": {
   "display_name": "base",
   "language": "python",
   "name": "python3"
  },
  "language_info": {
   "codemirror_mode": {
    "name": "ipython",
    "version": 3
   },
   "file_extension": ".py",
   "mimetype": "text/x-python",
   "name": "python",
   "nbconvert_exporter": "python",
   "pygments_lexer": "ipython3",
   "version": "3.9.12 (main, Apr  5 2022, 01:53:17) \n[Clang 12.0.0 ]"
  },
  "orig_nbformat": 4,
  "vscode": {
   "interpreter": {
    "hash": "40d3a090f54c6569ab1632332b64b2c03c39dcf918b08424e98f38b5ae0af88f"
   }
  }
 },
 "nbformat": 4,
 "nbformat_minor": 2
}
