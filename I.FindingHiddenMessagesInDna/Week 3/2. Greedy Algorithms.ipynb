{
 "cells": [
  {
   "attachments": {},
   "cell_type": "markdown",
   "metadata": {},
   "source": [
    "# Week 3"
   ]
  },
  {
   "attachments": {},
   "cell_type": "markdown",
   "metadata": {},
   "source": [
    "## Functions from previous weeks"
   ]
  },
  {
   "cell_type": "markdown",
   "metadata": {},
   "source": [
    "Find all (k, d)-motifs in a collection of strings"
   ]
  },
  {
   "cell_type": "code",
   "execution_count": 4,
   "metadata": {},
   "outputs": [],
   "source": [
    "def FrequentWordsWithMismatches(\n",
    "    Text, k, d, print_output=False\n",
    "):\n",
    "    Patterns = list()\n",
    "    freqMap = dict()\n",
    "    n = len(Text)\n",
    "\n",
    "    for i in range(0, n-k+1):\n",
    "        Pattern = Text[i:i+k] # перебираем паттерны по строке\n",
    "        neighborhood = Neighbors(Pattern, d) # создаем множество соседей - паттернов, которые отличаются от нашего паттерна на d\n",
    "\n",
    "        for j in range(len(neighborhood) - 1): # проверяем всех соседей по словарю, добавляем +1 счет\n",
    "            neighbor = neighborhood[j]\n",
    "\n",
    "            if neighbor not in freqMap:\n",
    "                freqMap[neighbor] = 1\n",
    "            else:\n",
    "                freqMap[neighbor] += 1\n",
    "\n",
    "    maxPattern = MaxFreq(freqMap) # находим максимумальное значение по строке в словаре и выводим все паттерны, у которых столько совпадений со строкой\n",
    "    for key in freqMap:\n",
    "        if freqMap[key] == maxPattern:\n",
    "            Patterns.append(key)\n",
    "\n",
    "    if print_output:\n",
    "        print(*Patterns)\n",
    "    else:\n",
    "        return Patterns\n",
    "\n",
    "\n",
    "def HammingDistance(p, q):\n",
    "    hammingDist = 0\n",
    "\n",
    "    for i in range(len(p)):\n",
    "        if p[i] != q[i]:\n",
    "            hammingDist += 1\n",
    "\n",
    "    return hammingDist\n",
    "\n",
    "\n",
    "def Neighbors(Pattern, d):\n",
    "    if d == 0:\n",
    "        return Pattern\n",
    "    if len(Pattern) == 1:\n",
    "        return {'A', 'T', 'G', 'C'}\n",
    "    \n",
    "    Neighborhood = set()\n",
    "    NeighborSuffix = Neighbors(Suffix(Pattern), d)\n",
    "\n",
    "    for Neighbor in NeighborSuffix:\n",
    "        if HammingDistance(Suffix(Pattern), Neighbor) < d:\n",
    "            for i in 'ATGC':\n",
    "                Neighborhood.add(i+Neighbor)\n",
    "        else:\n",
    "            Neighborhood.add(Pattern[0] + Neighbor)\n",
    "            \n",
    "    return list(Neighborhood)\n",
    "\n",
    "\n",
    "def MaxFreq(Dictionary: dict):\n",
    "    '''\n",
    "    Function to return max value from dictionary\n",
    "    '''\n",
    "\n",
    "    maxValue = max(\n",
    "        Dictionary, key=Dictionary.get\n",
    "    )\n",
    "    return Dictionary[maxValue]\n",
    "\n",
    "\n",
    "def SortPatternsDict(Dictionary):\n",
    "    '''\n",
    "    Function return dictionary sorted by value.\n",
    "    '''\n",
    "\n",
    "    sortedDict = {\n",
    "        key: value for key, value in sorted(Dictionary.items(), key=lambda item: item[1], reverse=True)\n",
    "    }\n",
    "    return sortedDict\n",
    "    \n",
    "    \n",
    "def Suffix(Pattern):\n",
    "    return Pattern[1:]"
   ]
  },
  {
   "attachments": {},
   "cell_type": "markdown",
   "metadata": {},
   "source": [
    "## Greedy Algorithms"
   ]
  },
  {
   "attachments": {},
   "cell_type": "markdown",
   "metadata": {},
   "source": [
    "Greedy algorithms select the “most attractive” alternative at each iteration. For example, a greedy algorithm in chess might attempt to capture an opponent’s most valuable piece at every move\n",
    "\n",
    "Instead, they are often fast heuristics that trade accuracy for speed in order to find an approximate solution\n",
    "\n",
    "Nevertheless, for many biological problems that we will study in this book, greedy algorithms will prove quite useful."
   ]
  },
  {
   "cell_type": "code",
   "execution_count": null,
   "metadata": {},
   "outputs": [
    {
     "data": {
      "text/plain": [
       "{'A': [], 'C': [], 'G': [], 'T': []}"
      ]
     },
     "metadata": {},
     "output_type": "display_data"
    }
   ],
   "source": [
    "Profile = {\n",
    "    base: [\n",
    "        float(probability) for probability in input(f\"Enter probabilities for {base}\").split()\n",
    "    ] for base in 'ACGT'\n",
    "}\n",
    "Profile"
   ]
  },
  {
   "attachments": {},
   "cell_type": "markdown",
   "metadata": {},
   "source": [
    "**ProfileMostProbable** calculates probability (**CalculateProbability**) of every k-mer based on ACGT-Profile and returns k-mer with highest probability. If there will be multiple k-mers with the same prob, returns first."
   ]
  },
  {
   "cell_type": "code",
   "execution_count": 6,
   "metadata": {},
   "outputs": [
    {
     "data": {
      "text/plain": [
       "'CCGAG'"
      ]
     },
     "execution_count": 6,
     "metadata": {},
     "output_type": "execute_result"
    }
   ],
   "source": [
    "from math import prod\n",
    "\n",
    "\n",
    "def ProfileMostProbable(DnaString, k, Profile:dict):\n",
    "\n",
    "    kMerList = [ DnaString[i:i+k] for i in range(len(DnaString) - k + 1) ]\n",
    "\n",
    "    mostProbable = kMerList[0]\n",
    "    probability = CalculateProbability(kMerList[0], k, Profile) # назначаем изначальные данные для первого k-мера\n",
    "\n",
    "    for kMer in kMerList[1:]:\n",
    "        probkMer = CalculateProbability(kMer, k, Profile)\n",
    "        if probkMer > probability:\n",
    "            probability = probkMer\n",
    "            mostProbable = kMer\n",
    "\n",
    "    return mostProbable\n",
    "\n",
    "\n",
    "def CalculateProbability(Pattern, k, Profile:dict):\n",
    "    return prod([Profile[Pattern[i]][i] for i in range(k)])\n",
    "\n",
    "\n",
    "ProfileMostProbable(\n",
    "    DnaString='ACCTGTTTATTGCCTAAGTTCCGAACAAACCCAATATAGCCCGAGGGCCT',\n",
    "    k=5, Profile={\n",
    "        'A': [0.2, 0.2, 0.3, 0.2, 0.3],\n",
    "        'C': [0.4, 0.3, 0.1, 0.5, 0.1],\n",
    "        'G': [0.3, 0.3, 0.5, 0.2, 0.4],\n",
    "        'T': [0.1, 0.2, 0.1, 0.1, 0.2]\n",
    "    })"
   ]
  },
  {
   "attachments": {},
   "cell_type": "markdown",
   "metadata": {},
   "source": [
    "We will also need **CreateProfile** function to build ACGT-Profile for list of Motifs, and *Score* function to calculate Score "
   ]
  },
  {
   "cell_type": "code",
   "execution_count": 7,
   "metadata": {},
   "outputs": [],
   "source": [
    "from collections import Counter\n",
    "import numpy as np\n",
    "\n",
    "\n",
    "def CreateProfile(DnaList):\n",
    "    Profile = { base: [ # делаем словарь основание-список вероятностей по позициям для каждой колонки нуклеотидов из списка последовательностей\n",
    "        Nucleotides.count(base) / len(Nucleotides)\n",
    "        for Nucleotides in [''.join([Dna[i] for Dna in DnaList]) for i in range(len(DnaList[0]))]\n",
    "    ] for base in 'ACGT' }\n",
    "    return Profile \n",
    "\n",
    "\n",
    "# def Score(Motifs):\n",
    "#     Concensus = MedianStringMotif(Motifs, len(Motifs[0]))\n",
    "#     print(\"Concensus Motif is:\", Concensus)\n",
    "#     return sum([1 for line in Motifs for i in range(len(line)) if line[i] != Concensus[i] ])\n",
    "\n",
    "\n",
    "def Score(Motifs):\n",
    "    motifsList = [\n",
    "        [Motifs[i][j] for i in range(len(Motifs))] for j in range(len(Motifs[0]))\n",
    "    ]\n",
    "    Score = 0\n",
    "    for column_i in motifsList:\n",
    "        count = Counter(column_i)\n",
    "        maxFreq = count.most_common(1)[0][1]\n",
    "        Score += len(column_i) - maxFreq\n",
    "    return Score"
   ]
  },
  {
   "cell_type": "code",
   "execution_count": 8,
   "metadata": {},
   "outputs": [
    {
     "data": {
      "text/plain": [
       "{'A': [1.0, 0.0, 0.0, 0.25],\n",
       " 'C': [0.0, 0.5, 0.25, 0.0],\n",
       " 'G': [0.0, 0.5, 0.75, 0.0],\n",
       " 'T': [0.0, 0.0, 0.0, 0.75]}"
      ]
     },
     "execution_count": 8,
     "metadata": {},
     "output_type": "execute_result"
    }
   ],
   "source": [
    "CreateProfile([\"ACCT\", \"AGGA\", \"ACGT\", \"AGGT\"])"
   ]
  },
  {
   "attachments": {},
   "cell_type": "markdown",
   "metadata": {},
   "source": [
    "Now we try **GreedyMotifSearch** - an Algorithm that takes list with one k-mer from first string and creates its Profile. Then it calculates MostProbable k-mer for second line based on Current Profile, adds that k-mer to list, then recalculates Profile, calculates MostProbable for third line etc.\n",
    "\n",
    "After finishing with all lines it checks, whether Score of our Current k-mer list is better (lower) than Score of Best k-mer list, and if true, rewrites Best List. Then it repeats the whole cycle with next k-mer till the end."
   ]
  },
  {
   "cell_type": "code",
   "execution_count": 9,
   "metadata": {},
   "outputs": [],
   "source": [
    "def GreedyMotifSearch(DnaList, k, t, print_output=False):\n",
    "    BestMotifs = [Dna[0:k] for Dna in DnaList] # начинаем с первой строки из списка ДНК, делим ее на k-меры\n",
    "    BestScore = Score(BestMotifs) # считаем Score для этих k-меров\n",
    "    \n",
    "    for kMer in [DnaList[0][i:i+k] for i in range(len(DnaList[0]) - k + 1)]: # для каждого k-мера смотрим остальные строки из списка ДНК\n",
    "        Motifs = list() \n",
    "        Motifs.append(kMer) # берем k-мер из первой строки\n",
    "        for i in range(1, t):\n",
    "            CurrentProfile = CreateProfile(Motifs) # высчитываем профиль по текущему списку мотивов (вероятности ACGT) \n",
    "            Motif = ProfileMostProbable(DnaList[i], k, CurrentProfile) # высчитываем наиболее вероятный k-мер для строки\n",
    "            Motifs.append(Motif) # добавляем k-мер к списку мотивов, \n",
    "            # идем к след строке, для нее обновляем профиль и на его основании находим наиболее вероятный k-mer\n",
    "        \n",
    "        CurrentScore = Score(Motifs) # пройдя по всем строкам и получив все мотивы, проверяем их Score\n",
    "        if BestScore > CurrentScore: # если Score ниже, обновляем лучший набор мотивов и лучший счет\n",
    "            BestMotifs = Motifs\n",
    "            BestScore = CurrentScore\n",
    "            \n",
    "    if print_output == True:\n",
    "        print(\"Best k-mer Motifs are:\")\n",
    "        print(*BestMotifs)\n",
    "        print(\"Best Score is:\", BestScore)\n",
    "    else:\n",
    "        return BestMotifs"
   ]
  },
  {
   "cell_type": "code",
   "execution_count": null,
   "metadata": {},
   "outputs": [
    {
     "name": "stdout",
     "output_type": "stream",
     "text": [
      "Best k-mer Motifs are:\n",
      "ATTTCTTCTAAA TTTGCATCTACA TTTACATCTACA GTTTCCTCTACA CTTACGTCTATA GTTCCCTCTAGA TTTCCTTCTAGA ATTCCTTCTAGA TTTTCTTCTAGA GTTTCATCTATA GTTACCTCTAGA GTTACGTCTAGA ATTCCATCTAGA CTTCCGTCTAAA GTTGCATCTAGA TTTACATCTATA GTTACTTCTACA TTTCCATCTACA ATTGCCTCTACA TTTACGTCTAGA TTTGCCTCTAGA TTTCCATCTATA CTTACCTCTAGA ATTACTTCTATA TTTCCGTCTAGA\n",
      "Best Score is: 61\n"
     ]
    }
   ],
   "source": [
    "GreedyMotifSearch(\n",
    "    k=12, t=25, DnaList=[line.strip() for line in input(\"Enter space-separated sequences:\").split()], print_output=True\n",
    ")"
   ]
  },
  {
   "attachments": {},
   "cell_type": "markdown",
   "metadata": {},
   "source": [
    "In contrast to **MedianString**, **GreedyMotifSearch** is fast and can be run with k = 15 to solve the Subtle Motif Problem (recall that we settled for k = 13 in the case of MedianString). However, it trades speed for accuracy and returns, for example, *gtAAAtAgaGatGtG* (total distance: 58), which is very different from the true implanted motif *AAAAAAAAGGGGGGG*"
   ]
  },
  {
   "attachments": {},
   "cell_type": "markdown",
   "metadata": {},
   "source": [
    "### Current problem: \n",
    "If we have 0 probability of nucleotide, we face 0 probability for the whole motif, even though other probabilities can be very good.\n",
    "\n",
    "In order to improve this unfair scoring, bioinformaticians often substitute zeroes with small numbers called pseudocounts.\n",
    "\n",
    "In the case of motifs, pseudocounts often amount to adding 1 (or some other small number) to each element of Count(Motifs). "
   ]
  },
  {
   "cell_type": "markdown",
   "metadata": {},
   "source": [
    "The argument for Pseudocounts were that if we know about success and failure, then these events have already been observed. Thus we can add Pseudocounts"
   ]
  },
  {
   "attachments": {},
   "cell_type": "markdown",
   "metadata": {},
   "source": [
    "So we would change **CreateProfile function to use Pseudocounts**, and implement it in ***GreedyMotifSearch***"
   ]
  },
  {
   "cell_type": "code",
   "execution_count": 10,
   "metadata": {},
   "outputs": [],
   "source": [
    "def CreateProfilePseudocounts(DnaList):\n",
    "    Profile = { base: [ # делаем словарь основание-список вероятностей по позициям для каждой колонки нуклеотидов из списка последовательностей\n",
    "        (Nucleotides.count(base)+1) / (len(DnaList[0])+len(DnaList))\n",
    "        for Nucleotides in [''.join([Dna[i] for Dna in DnaList]) for i in range(len(DnaList[0]))]\n",
    "    ] for base in 'ACGT' }\n",
    "    return Profile "
   ]
  },
  {
   "cell_type": "code",
   "execution_count": 11,
   "metadata": {},
   "outputs": [
    {
     "data": {
      "text/plain": [
       "{'A': [0.4, 0.2, 0.2, 0.2],\n",
       " 'C': [0.2, 0.4, 0.4, 0.2],\n",
       " 'G': [0.2, 0.2, 0.2, 0.2],\n",
       " 'T': [0.2, 0.2, 0.2, 0.4]}"
      ]
     },
     "execution_count": 11,
     "metadata": {},
     "output_type": "execute_result"
    }
   ],
   "source": [
    "CreateProfilePseudocounts(['ACCT'])"
   ]
  },
  {
   "cell_type": "code",
   "execution_count": null,
   "metadata": {},
   "outputs": [],
   "source": [
    "def GreedyMotifSearchPseudocounts(DnaList, k, t, print_output=False):\n",
    "    BestMotifs = [Dna[0:k] for Dna in DnaList] # начинаем с первой строки из списка ДНК, делим ее на k-меры\n",
    "    BestScore = Score(BestMotifs) # считаем Score для этих k-меров\n",
    "    \n",
    "    for kMer in [DnaList[0][i:i+k] for i in range(len(DnaList[0]) - k + 1)]: # для каждого k-мера смотрим остальные строки из списка ДНК\n",
    "        Motifs = list() \n",
    "        Motifs.append(kMer) # берем k-мер из первой строки\n",
    "        for i in range(1, t):\n",
    "            CurrentProfile = CreateProfilePseudocounts(Motifs) # высчитываем профиль по текущему списку мотивов (вероятности ACGT) \n",
    "            Motif = ProfileMostProbable(DnaList[i], k, CurrentProfile) # высчитываем наиболее вероятный k-мер для строки\n",
    "            Motifs.append(Motif) # добавляем k-мер к списку мотивов, \n",
    "            # идем к след строке, для нее обновляем профиль и на его основании находим наиболее вероятный k-mer\n",
    "        \n",
    "        CurrentScore = Score(Motifs) # пройдя по всем строкам и получив все мотивы, проверяем их Score\n",
    "        if BestScore > CurrentScore: # если Score ниже, обновляем лучший набор мотивов и лучший счет\n",
    "            BestMotifs = Motifs\n",
    "            BestScore = CurrentScore\n",
    "            \n",
    "    if print_output == True:\n",
    "        print(\"Best k-mer Motifs are:\")\n",
    "        print(*BestMotifs)\n",
    "        print(\"Best Score is:\", BestScore)\n",
    "    else:\n",
    "        return BestMotifs"
   ]
  },
  {
   "cell_type": "code",
   "execution_count": null,
   "metadata": {},
   "outputs": [
    {
     "name": "stdout",
     "output_type": "stream",
     "text": [
      "Best k-mer Motifs are:\n",
      "ATTTCTTCTAAA TTTGCATCTACA TTTACATCTACA GTTTCCTCTACA CTTACGTCTATA GTTCCCTCTAGA TTTCCTTCTAGA ATTCCTTCTAGA TTTTCTTCTAGA GTTTCATCTATA GTTACCTCTAGA GTTACGTCTAGA ATTCCATCTAGA CTTCCGTCTAAA GTTGCATCTAGA TTTACATCTATA GTTACTTCTACA TTTCCATCTACA ATTGCCTCTACA TTTACGTCTAGA TTTGCCTCTAGA TTTCCATCTATA CTTACCTCTAGA ATTACTTCTATA TTTCCGTCTAGA\n",
      "Best Score is: 61\n"
     ]
    }
   ],
   "source": [
    "GreedyMotifSearchPseudocounts(\n",
    "    k=12, t=25, print_output=True, DnaList=[ i.strip() for i in input().split()]\n",
    ")"
   ]
  }
 ],
 "metadata": {
  "kernelspec": {
   "display_name": "base",
   "language": "python",
   "name": "python3"
  },
  "language_info": {
   "codemirror_mode": {
    "name": "ipython",
    "version": 3
   },
   "file_extension": ".py",
   "mimetype": "text/x-python",
   "name": "python",
   "nbconvert_exporter": "python",
   "pygments_lexer": "ipython3",
   "version": "3.9.12 (main, Apr  5 2022, 01:53:17) \n[Clang 12.0.0 ]"
  },
  "orig_nbformat": 4,
  "vscode": {
   "interpreter": {
    "hash": "40d3a090f54c6569ab1632332b64b2c03c39dcf918b08424e98f38b5ae0af88f"
   }
  }
 },
 "nbformat": 4,
 "nbformat_minor": 2
}
