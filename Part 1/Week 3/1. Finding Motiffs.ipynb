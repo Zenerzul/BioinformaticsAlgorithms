{
 "cells": [
  {
   "attachments": {},
   "cell_type": "markdown",
   "metadata": {},
   "source": [
    "# Week 3"
   ]
  },
  {
   "attachments": {},
   "cell_type": "markdown",
   "metadata": {},
   "source": [
    "## Functions from previous weeks"
   ]
  },
  {
   "cell_type": "markdown",
   "metadata": {},
   "source": [
    "Find all (k, d)-motifs in a collection of strings"
   ]
  },
  {
   "cell_type": "code",
   "execution_count": 6,
   "metadata": {},
   "outputs": [],
   "source": [
    "def FrequentWordsWithMismatches(\n",
    "    Text, k, d, print_output=False\n",
    "):\n",
    "    Patterns = list()\n",
    "    freqMap = dict()\n",
    "    n = len(Text)\n",
    "\n",
    "    for i in range(0, n-k+1):\n",
    "        Pattern = Text[i:i+k] # перебираем паттерны по строке\n",
    "        neighborhood = Neighbors(Pattern, d) # создаем множество соседей - паттернов, которые отличаются от нашего паттерна на d\n",
    "\n",
    "        for j in range(len(neighborhood) - 1): # проверяем всех соседей по словарю, добавляем +1 счет\n",
    "            neighbor = neighborhood[j]\n",
    "\n",
    "            if neighbor not in freqMap:\n",
    "                freqMap[neighbor] = 1\n",
    "            else:\n",
    "                freqMap[neighbor] += 1\n",
    "\n",
    "    maxPattern = MaxFreq(freqMap) # находим максимумальное значение по строке в словаре и выводим все паттерны, у которых столько совпадений со строкой\n",
    "    for key in freqMap:\n",
    "        if freqMap[key] == maxPattern:\n",
    "            Patterns.append(key)\n",
    "\n",
    "    if print_output:\n",
    "        print(*Patterns)\n",
    "    else:\n",
    "        return Patterns\n",
    "\n",
    "\n",
    "def HammingDistance(p, q):\n",
    "    hammingDist = 0\n",
    "\n",
    "    for i in range(len(p)):\n",
    "        if p[i] != q[i]:\n",
    "            hammingDist += 1\n",
    "\n",
    "    return hammingDist\n",
    "\n",
    "\n",
    "def Neighbors(Pattern, d):\n",
    "    if d == 0:\n",
    "        return Pattern\n",
    "    if len(Pattern) == 1:\n",
    "        return {'A', 'T', 'G', 'C'}\n",
    "    \n",
    "    Neighborhood = set()\n",
    "    NeighborSuffix = Neighbors(Suffix(Pattern), d)\n",
    "\n",
    "    for Neighbor in NeighborSuffix:\n",
    "        if HammingDistance(Suffix(Pattern), Neighbor) < d:\n",
    "            for i in 'ATGC':\n",
    "                Neighborhood.add(i+Neighbor)\n",
    "        else:\n",
    "            Neighborhood.add(Pattern[0] + Neighbor)\n",
    "            \n",
    "    return list(Neighborhood)\n",
    "\n",
    "\n",
    "def MaxFreq(Dictionary: dict):\n",
    "    '''\n",
    "    Function to return max value from dictionary\n",
    "    '''\n",
    "\n",
    "    maxValue = max(\n",
    "        Dictionary, key=Dictionary.get\n",
    "    )\n",
    "    return Dictionary[maxValue]\n",
    "\n",
    "\n",
    "def SortPatternsDict(Dictionary):\n",
    "    '''\n",
    "    Function return dictionary sorted by value.\n",
    "    '''\n",
    "\n",
    "    sortedDict = {\n",
    "        key: value for key, value in sorted(Dictionary.items(), key=lambda item: item[1], reverse=True)\n",
    "    }\n",
    "    return sortedDict\n",
    "    \n",
    "    \n",
    "def Suffix(Pattern):\n",
    "    return Pattern[1:]"
   ]
  },
  {
   "attachments": {},
   "cell_type": "markdown",
   "metadata": {},
   "source": [
    "## BruteForceMotifSearch"
   ]
  },
  {
   "cell_type": "markdown",
   "metadata": {},
   "source": [
    "A brute force approach for solving the Implanted Motif Problem is based on the observation that any (k, d)-motif must be at most d mismatches apart from some k-mer appearing in the first string in Dna. Therefore, we can generate all such k-mers and then check which of them are (k, d)-motifs."
   ]
  },
  {
   "cell_type": "code",
   "execution_count": 7,
   "metadata": {},
   "outputs": [],
   "source": [
    "def MotifEnumerator(\n",
    "    k, d, \n",
    "):\n",
    "    # Dna = [sequence for sequence in input(\"Enter sequences, separated by space:\").split()]\n",
    "    DnaList = [\n",
    "        'GTTTCACGTCAGTACCCGCAGGAGA', 'GGATCTCCGCTAGTTTCCGTAGTAC', 'GGTTACACAATGTACCACACGTCCG', \n",
    "        'GCGCCCTAGAGACACCCCAGCGTAC', 'TGGGGCGTACTGGCACGGTGAAAGA', 'CCGGCAGTACGGTTATACAGTCGCA'\n",
    "    ]\n",
    "\n",
    "    # Делаем список со списками k-меров для каждого кусочка последовательности\n",
    "    PatternList = [ \n",
    "        [Dna[i:i+k] for i in range(len(Dna)-k+1)]\n",
    "        for Dna in DnaList \n",
    "    ]\n",
    "\n",
    "    # Делаем список с множествами, куда запишем всех соседей Neighbors для всех k-меров для каждого кусочка последовательности \n",
    "    set_list = list()\n",
    "    for i in PatternList:\n",
    "        total_list = list()\n",
    "        for j in i:\n",
    "            total_list += Neighbors(j, d)\n",
    "        set_list.append(set(total_list))\n",
    "    \n",
    "    # Делаем итоговый список, который постепенно уменьшается засчет пересечения с каждым следующим множеством, \n",
    "    # оставляя только такие k-меры, которые есть во всех входных последовательностях\n",
    "    patterns = set_list[0]\n",
    "    for k_set in set_list:\n",
    "        patterns = patterns & k_set\n",
    "\n",
    "    return list(patterns)"
   ]
  },
  {
   "cell_type": "code",
   "execution_count": 8,
   "metadata": {},
   "outputs": [
    {
     "name": "stdout",
     "output_type": "stream",
     "text": [
      "TGTAC CGTAC GGTAC AGTAC\n"
     ]
    }
   ],
   "source": [
    "x = MotifEnumerator(5, 1)\n",
    "print(*x)"
   ]
  },
  {
   "cell_type": "markdown",
   "metadata": {},
   "source": [
    "This is fucked as fuck. Let's check, what will happen next.."
   ]
  },
  {
   "attachments": {},
   "cell_type": "markdown",
   "metadata": {},
   "source": [
    "But our motifs may differ greatly, so we won't be able to track them so easily\n",
    "\n",
    "Moreover, there are regions in motifs which are highly conservative, and there are motifs, which are highly variable.\n",
    "For example, the sixteen nucleotide-long CSRE transcription factor binding site in the yeast species S. cerevisiae consists of five strongly conserved positions (1, 8, 9, 12, and 13) in addition to eleven weakly conserved positions, each of which features two nucleotides with similar frequencies"
   ]
  },
  {
   "attachments": {},
   "cell_type": "markdown",
   "metadata": {},
   "source": [
    "## CountEntropy"
   ]
  },
  {
   "attachments": {},
   "cell_type": "markdown",
   "metadata": {},
   "source": [
    "We can use Enthropy to estimate the motif. The entropy of a motif matrix is defined as the sum of the entropies of its columns."
   ]
  },
  {
   "attachments": {
    "image.png": {
     "image/png": "[encoded data removed]"
    }
   },
   "cell_type": "markdown",
   "metadata": {},
   "source": [
    "![image.png](attachment:image.png)"
   ]
  },
  {
   "cell_type": "code",
   "execution_count": 33,
   "metadata": {},
   "outputs": [],
   "source": [
    "import math"
   ]
  },
  {
   "cell_type": "code",
   "execution_count": 34,
   "metadata": {},
   "outputs": [
    {
     "name": "stdout",
     "output_type": "stream",
     "text": [
      "Total Enthropy for the Matrix by Column: 9.9163\n"
     ]
    }
   ],
   "source": [
    "def CountEnthropy(Nucleotides):\n",
    "    summEntropy = 0\n",
    "    for base in 'ATGC':\n",
    "        probBase = Nucleotides.count(base)/len(Nucleotides)\n",
    "        if probBase != 0:\n",
    "            summEntropy += probBase * math.log2(probBase)\n",
    "    return -summEntropy\n",
    "\n",
    "    \n",
    "Motifs = [\n",
    "    \"TCGGGGGTTTTT\",\n",
    "    \"CCGGTGACTTAC\",\n",
    "    \"ACGGGGATTTTC\",\n",
    "    \"TTGGGGACTTTT\",\n",
    "    \"AAGGGGACTTCC\",\n",
    "    \"TTGGGGACTTCC\",\n",
    "    \"TCGGGGATTCAT\",\n",
    "    \"TCGGGGATTCCT\",\n",
    "    \"TAGGGGAACTAC\",\n",
    "    \"TCGGGTATAACC\"\n",
    "]\n",
    "\n",
    "totalEnthtopyByCol = 0\n",
    "\n",
    "for j in range(len(Motifs[0])): # перебором по элементам в строках составляем столбцы, считаем по ним энтропию и суммируем\n",
    "    nucleotidesColumn = str()\n",
    "    for motif in Motifs:\n",
    "        nucleotidesColumn += motif[j]\n",
    "    totalEnthtopyByCol += CountEnthropy(nucleotidesColumn)\n",
    "\n",
    "print(\"Total Enthropy for the Matrix by Column:\", round(totalEnthtopyByCol, 4))"
   ]
  },
  {
   "cell_type": "markdown",
   "metadata": {},
   "source": [
    "## MedianString"
   ]
  },
  {
   "attachments": {},
   "cell_type": "markdown",
   "metadata": {},
   "source": [
    "Because BruteForceMotifSearch is inefficient, we will think about motif finding in a different way. \n",
    "\n",
    "Instead of exploring all Motifs in Dna and deriving the consensus string from Motifs afterwards, we will explore all potential k-mer consensus strings first and then find the best possible collection Motifs for each consensus string\n",
    "\n",
    "By understanding that Score can be calculated not only by columns, but also by rows, we can create following algorithm"
   ]
  },
  {
   "cell_type": "code",
   "execution_count": 35,
   "metadata": {},
   "outputs": [],
   "source": [
    "from itertools import product"
   ]
  },
  {
   "cell_type": "code",
   "execution_count": 36,
   "metadata": {},
   "outputs": [],
   "source": [
    "def MedianStringMotif(Dna, k):\n",
    "    '''\n",
    "    Function that checks distances for all possible k-mers against input list of sequences\n",
    "    Returns Pattern, which has minimal total distance across input dataset\n",
    "    '''\n",
    "    kMerList = [''.join(base) for base in product('ATGC', repeat=k)] # делаем лист всех возможных комбинаций по k букв из набора ATGC\n",
    "    distance = 1000000\n",
    "    Median = str()\n",
    "\n",
    "    for Pattern in kMerList: # каждый из k-меров проверяется функцией, насколько он совпадает с каждой строкой из инпута\n",
    "        PatternDistance = DnaDistance(Pattern, Dna, k)\n",
    "        if distance > PatternDistance: # если он близок, записываем его как Медиану, а его расстояние до датасета становится новым минимальным\n",
    "            distance = PatternDistance\n",
    "            Median = Pattern\n",
    "    \n",
    "    return Median\n",
    "\n",
    "\n",
    "def DnaDistance(Pattern, Dna, k):\n",
    "    '''\n",
    "    Function to compare pattern with all strings in input, compute minimal distances and return summary of minimal distances\n",
    "    '''\n",
    "    return sum([\n",
    "        min([\n",
    "            HammingDistance(Pattern, dna[i:i+k]) for i in range(len(dna) - k + 1)\n",
    "        ]) for dna in Dna\n",
    "    ])\n",
    "    # для каждой последовательности в датасете мы идем по ее длине и находим расстояния Хэмминга (отличия между последовательностями)\n"
   ]
  },
  {
   "cell_type": "code",
   "execution_count": 37,
   "metadata": {},
   "outputs": [
    {
     "data": {
      "text/plain": [
       "0"
      ]
     },
     "execution_count": 37,
     "metadata": {},
     "output_type": "execute_result"
    }
   ],
   "source": [
    "DnaDistance(\n",
    "    'TTCGTT', [ i.strip() for i in input().split() ], 6\n",
    ")"
   ]
  },
  {
   "cell_type": "code",
   "execution_count": 38,
   "metadata": {},
   "outputs": [
    {
     "data": {
      "text/plain": [
       "'AAA'"
      ]
     },
     "execution_count": 38,
     "metadata": {},
     "output_type": "execute_result"
    }
   ],
   "source": [
    "MedianStringMotif(\n",
    "    Dna = [seq.strip() for seq in input().split()],\n",
    "    k= 3\n",
    ")"
   ]
  }
 ],
 "metadata": {
  "kernelspec": {
   "display_name": "base",
   "language": "python",
   "name": "python3"
  },
  "language_info": {
   "codemirror_mode": {
    "name": "ipython",
    "version": 3
   },
   "file_extension": ".py",
   "mimetype": "text/x-python",
   "name": "python",
   "nbconvert_exporter": "python",
   "pygments_lexer": "ipython3",
   "version": "3.9.12"
  },
  "orig_nbformat": 4,
  "vscode": {
   "interpreter": {
    "hash": "40d3a090f54c6569ab1632332b64b2c03c39dcf918b08424e98f38b5ae0af88f"
   }
  }
 },
 "nbformat": 4,
 "nbformat_minor": 2
}
